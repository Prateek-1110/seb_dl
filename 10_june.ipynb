{
  "cells": [
    {
      "cell_type": "markdown",
      "metadata": {
        "id": "view-in-github",
        "colab_type": "text"
      },
      "source": [
        "<a href=\"https://colab.research.google.com/github/Prateek-1110/seb_dl/blob/main/10_june.ipynb\" target=\"_parent\"><img src=\"https://colab.research.google.com/assets/colab-badge.svg\" alt=\"Open In Colab\"/></a>"
      ]
    },
    {
      "cell_type": "markdown",
      "metadata": {
        "id": "0UdATeYqjGZY"
      },
      "source": [
        "# Understanding Onehot Encoding and Cross Entropy in PyTorch"
      ]
    },
    {
      "cell_type": "code",
      "execution_count": 1,
      "metadata": {
        "id": "2uIMtqfXjGZY"
      },
      "outputs": [],
      "source": [
        "import torch"
      ]
    },
    {
      "cell_type": "markdown",
      "metadata": {
        "id": "VqJIx4LsjGZZ"
      },
      "source": [
        "## Onehot Encoding"
      ]
    },
    {
      "cell_type": "code",
      "execution_count": 2,
      "metadata": {
        "colab": {
          "base_uri": "https://localhost:8080/"
        },
        "id": "m1Mteq9rjGZZ",
        "outputId": "421e6f0e-e7b3-48e6-e3ca-a45af88a37f0"
      },
      "outputs": [
        {
          "output_type": "stream",
          "name": "stdout",
          "text": [
            "one-hot encoding:\n",
            " tensor([[1., 0., 0.],\n",
            "        [0., 1., 0.],\n",
            "        [0., 0., 1.],\n",
            "        [0., 0., 1.]])\n"
          ]
        }
      ],
      "source": [
        "def to_onehot(y, num_classes):\n",
        "    y_onehot = torch.zeros(y.size(0), num_classes)\n",
        "    y_onehot.scatter_(1, y.view(-1, 1).long(), 1).float()\n",
        "    return y_onehot\n",
        "\n",
        "y = torch.tensor([0, 1, 2, 2])\n",
        "\n",
        "y_enc = to_onehot(y, 3)\n",
        "\n",
        "print('one-hot encoding:\\n', y_enc)"
      ]
    },
    {
      "cell_type": "markdown",
      "metadata": {
        "id": "8xKFNcLPjGZZ"
      },
      "source": [
        "## Softmax"
      ]
    },
    {
      "cell_type": "markdown",
      "metadata": {
        "id": "lS5pa93bjGZZ"
      },
      "source": [
        "Suppose we have some net inputs Z, where each row is one training example:"
      ]
    },
    {
      "cell_type": "code",
      "execution_count": 3,
      "metadata": {
        "colab": {
          "base_uri": "https://localhost:8080/"
        },
        "id": "N5KbVooMjGZZ",
        "outputId": "ab623a90-83fc-4dbf-c0d7-d1809b5390d5"
      },
      "outputs": [
        {
          "output_type": "execute_result",
          "data": {
            "text/plain": [
              "tensor([[-0.3000, -0.5000, -0.5000],\n",
              "        [-0.4000, -0.1000, -0.5000],\n",
              "        [-0.3000, -0.9400, -0.5000],\n",
              "        [-0.9900, -0.8800, -0.5000]])"
            ]
          },
          "metadata": {},
          "execution_count": 3
        }
      ],
      "source": [
        "Z = torch.tensor( [[-0.3,  -0.5, -0.5],\n",
        "                   [-0.4,  -0.1, -0.5],\n",
        "                   [-0.3,  -0.94, -0.5],\n",
        "                   [-0.99, -0.88, -0.5]])\n",
        "\n",
        "Z"
      ]
    },
    {
      "cell_type": "markdown",
      "metadata": {
        "id": "b6otxJNIjGZa"
      },
      "source": [
        "Next, we convert them to \"probabilities\" via softmax:\n",
        "\n",
        "$$P(y=j \\mid z^{(i)}) = \\sigma_{\\text{softmax}}(z^{(i)}) = \\frac{e^{z^{(i)}}}{\\sum_{j=0}^{k} e^{z_{k}^{(i)}}}.$$"
      ]
    },
    {
      "cell_type": "code",
      "execution_count": 4,
      "metadata": {
        "colab": {
          "base_uri": "https://localhost:8080/"
        },
        "id": "gRHaL3OVjGZa",
        "outputId": "1103f7e6-9c97-46d6-9bc7-036d554c0507"
      },
      "outputs": [
        {
          "output_type": "stream",
          "name": "stdout",
          "text": [
            "softmax:\n",
            " tensor([[0.3792, 0.3104, 0.3104],\n",
            "        [0.3072, 0.4147, 0.2780],\n",
            "        [0.4263, 0.2248, 0.3490],\n",
            "        [0.2668, 0.2978, 0.4354]])\n"
          ]
        }
      ],
      "source": [
        "def softmax(z):\n",
        "    return (torch.exp(z.t()) / torch.sum(torch.exp(z), dim=1)).t()\n",
        "\n",
        "smax = softmax(Z)\n",
        "print('softmax:\\n', smax)"
      ]
    },
    {
      "cell_type": "markdown",
      "metadata": {
        "id": "pX5DP3o2jGZa"
      },
      "source": [
        "The probabilties can then be converted back to class labels based on the largest probability in each row:"
      ]
    },
    {
      "cell_type": "code",
      "execution_count": 5,
      "metadata": {
        "colab": {
          "base_uri": "https://localhost:8080/"
        },
        "id": "PII-xm0TjGZb",
        "outputId": "ce4becec-617f-46ea-8706-608eaaeb7d03"
      },
      "outputs": [
        {
          "output_type": "stream",
          "name": "stdout",
          "text": [
            "predicted class labels:  tensor([0, 1, 0, 2])\n",
            "true class labels:  tensor([0, 1, 2, 2])\n"
          ]
        }
      ],
      "source": [
        "def to_classlabel(z):\n",
        "    return torch.argmax(z, dim=1)\n",
        "\n",
        "print('predicted class labels: ', to_classlabel(smax))\n",
        "print('true class labels: ', to_classlabel(y_enc))"
      ]
    },
    {
      "cell_type": "markdown",
      "metadata": {
        "id": "C58Cc3YmjGZb"
      },
      "source": [
        "## Cross Entropy"
      ]
    },
    {
      "cell_type": "markdown",
      "metadata": {
        "id": "dOfCeWqfjGZb"
      },
      "source": [
        "Next, we compute the cross entropy for each training example:"
      ]
    },
    {
      "cell_type": "markdown",
      "metadata": {
        "id": "0ZtzugrXjGZb"
      },
      "source": [
        "$$\\mathcal{L}(\\mathbf{W}; \\mathbf{b}) = \\frac{1}{n} \\sum_{i=1}^{n} H(T_i, O_i),$$"
      ]
    },
    {
      "cell_type": "markdown",
      "metadata": {
        "id": "cgRzuc16jGZb"
      },
      "source": [
        "$$H(T_i, O_i) = -\\sum_m T_i \\cdot log(O_i).$$"
      ]
    },
    {
      "cell_type": "code",
      "execution_count": 6,
      "metadata": {
        "scrolled": true,
        "colab": {
          "base_uri": "https://localhost:8080/"
        },
        "id": "wNfe3JKmjGZb",
        "outputId": "ae64baa9-de96-4c69-ca19-47508a68eff4"
      },
      "outputs": [
        {
          "output_type": "stream",
          "name": "stdout",
          "text": [
            "Cross Entropy: tensor([0.9698, 0.8801, 1.0527, 0.8314])\n"
          ]
        }
      ],
      "source": [
        "def cross_entropy(softmax, y_target):\n",
        "    return - torch.sum(torch.log(softmax) * (y_target), dim=1)\n",
        "\n",
        "xent = cross_entropy(smax, y_enc)\n",
        "print('Cross Entropy:', xent)"
      ]
    },
    {
      "cell_type": "markdown",
      "metadata": {
        "id": "WrUgJEsxjGZb"
      },
      "source": [
        "## In PyTorch"
      ]
    },
    {
      "cell_type": "code",
      "execution_count": 7,
      "metadata": {
        "id": "phg9Z0IGjGZb"
      },
      "outputs": [],
      "source": [
        "import torch.nn.functional as F"
      ]
    },
    {
      "cell_type": "markdown",
      "metadata": {
        "id": "zyeHGvk5jGZb"
      },
      "source": [
        "Note that `nll_loss` takes log(softmax) as input:"
      ]
    },
    {
      "cell_type": "code",
      "execution_count": 8,
      "metadata": {
        "colab": {
          "base_uri": "https://localhost:8080/"
        },
        "id": "kC9iHU9MjGZb",
        "outputId": "ea371795-8966-460d-ad4b-738125405d7b"
      },
      "outputs": [
        {
          "output_type": "execute_result",
          "data": {
            "text/plain": [
              "tensor([0.9698, 0.8801, 1.0527, 0.8314])"
            ]
          },
          "metadata": {},
          "execution_count": 8
        }
      ],
      "source": [
        "F.nll_loss(torch.log(smax), y, reduction='none')"
      ]
    },
    {
      "cell_type": "markdown",
      "metadata": {
        "id": "JGzvMrqljGZc"
      },
      "source": [
        "Note that `cross_entropy` takes logits as input:"
      ]
    },
    {
      "cell_type": "code",
      "execution_count": 9,
      "metadata": {
        "colab": {
          "base_uri": "https://localhost:8080/"
        },
        "id": "s0tkGmdnjGZc",
        "outputId": "6e307a71-d783-465d-b460-30dbab036fa6"
      },
      "outputs": [
        {
          "output_type": "execute_result",
          "data": {
            "text/plain": [
              "tensor([0.9698, 0.8801, 1.0527, 0.8314])"
            ]
          },
          "metadata": {},
          "execution_count": 9
        }
      ],
      "source": [
        "F.cross_entropy(Z, y, reduction='none')"
      ]
    },
    {
      "cell_type": "markdown",
      "metadata": {
        "id": "JsXsJOKYjGZc"
      },
      "source": [
        "### Defaults"
      ]
    },
    {
      "cell_type": "markdown",
      "metadata": {
        "id": "XomgQvFTjGZc"
      },
      "source": [
        "By default, nll_loss & cross_entropy are already returning the average over training examples, which is useful for stability during optimization."
      ]
    },
    {
      "cell_type": "code",
      "execution_count": 10,
      "metadata": {
        "colab": {
          "base_uri": "https://localhost:8080/"
        },
        "id": "7OuKYXC-jGZc",
        "outputId": "cdbc8519-5308-452a-cec3-3c77fecf95ac"
      },
      "outputs": [
        {
          "output_type": "execute_result",
          "data": {
            "text/plain": [
              "tensor(0.9335)"
            ]
          },
          "metadata": {},
          "execution_count": 10
        }
      ],
      "source": [
        "F.cross_entropy(Z, y)"
      ]
    },
    {
      "cell_type": "code",
      "execution_count": 11,
      "metadata": {
        "colab": {
          "base_uri": "https://localhost:8080/"
        },
        "id": "EMvpuX_NjGZc",
        "outputId": "24ba175a-b95a-4b8c-f738-b50b0c51a803"
      },
      "outputs": [
        {
          "output_type": "execute_result",
          "data": {
            "text/plain": [
              "tensor(0.9335)"
            ]
          },
          "metadata": {},
          "execution_count": 11
        }
      ],
      "source": [
        "torch.mean(cross_entropy(smax, y_enc))"
      ]
    }
  ],
  "metadata": {
    "kernelspec": {
      "display_name": "Python 3",
      "language": "python",
      "name": "python3"
    },
    "language_info": {
      "codemirror_mode": {
        "name": "ipython",
        "version": 3
      },
      "file_extension": ".py",
      "mimetype": "text/x-python",
      "name": "python",
      "nbconvert_exporter": "python",
      "pygments_lexer": "ipython3",
      "version": "3.9.2"
    },
    "toc": {
      "base_numbering": 1,
      "nav_menu": {},
      "number_sections": true,
      "sideBar": true,
      "skip_h1_title": false,
      "title_cell": "Table of Contents",
      "title_sidebar": "Contents",
      "toc_cell": false,
      "toc_position": {},
      "toc_section_display": true,
      "toc_window_display": false
    },
    "colab": {
      "provenance": [],
      "include_colab_link": true
    }
  },
  "nbformat": 4,
  "nbformat_minor": 0
}