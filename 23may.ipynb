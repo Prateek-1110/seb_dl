{
  "nbformat": 4,
  "nbformat_minor": 0,
  "metadata": {
    "colab": {
      "provenance": [],
      "authorship_tag": "ABX9TyMWrVYIbWOOgnTluPA3BU4A",
      "include_colab_link": true
    },
    "kernelspec": {
      "name": "python3",
      "display_name": "Python 3"
    },
    "language_info": {
      "name": "python"
    }
  },
  "cells": [
    {
      "cell_type": "markdown",
      "metadata": {
        "id": "view-in-github",
        "colab_type": "text"
      },
      "source": [
        "<a href=\"https://colab.research.google.com/github/Prateek-1110/seb_dl/blob/main/23may.ipynb\" target=\"_parent\"><img src=\"https://colab.research.google.com/assets/colab-badge.svg\" alt=\"Open In Colab\"/></a>"
      ]
    },
    {
      "cell_type": "code",
      "source": [
        "import matplotlib.pyplot as plt\n",
        "import pandas as pd\n",
        "%matplotlib inline\n",
        "import torch"
      ],
      "metadata": {
        "id": "HXkqj2bmitB7"
      },
      "execution_count": 7,
      "outputs": []
    },
    {
      "cell_type": "markdown",
      "source": [
        "**Lect 3.3**"
      ],
      "metadata": {
        "id": "NM_XgAkwUcfI"
      }
    },
    {
      "cell_type": "code",
      "execution_count": 8,
      "metadata": {
        "id": "YxmQGj9lShyW"
      },
      "outputs": [],
      "source": [
        "x0 , x1 , x2 = 1.,2.,3.\n",
        "bias , w1,w2 = .1,.3,.5\n",
        "x = [x0,x1,x2]\n",
        "w = [bias , w1,w2]"
      ]
    },
    {
      "cell_type": "code",
      "source": [
        "z = 0\n",
        "for i in range(len(x)):\n",
        "  z +=x[i]*w[i]\n",
        "print(z)"
      ],
      "metadata": {
        "colab": {
          "base_uri": "https://localhost:8080/"
        },
        "id": "Bd1U69VlUDY2",
        "outputId": "b5a3b942-39dc-4f21-b548-51e2e0a1f8d5"
      },
      "execution_count": 9,
      "outputs": [
        {
          "output_type": "stream",
          "name": "stdout",
          "text": [
            "2.2\n"
          ]
        }
      ]
    },
    {
      "cell_type": "code",
      "source": [
        "import numpy as np\n",
        "xvec = np.array(x)\n",
        "yvec = np.array(w)\n",
        "cost = np.dot(xvec.transpose(),yvec)\n",
        "print(cost)\n"
      ],
      "metadata": {
        "colab": {
          "base_uri": "https://localhost:8080/"
        },
        "id": "oLJ2DGEiUSDj",
        "outputId": "6ed8db8e-f034-4777-d94d-0df94a805e7d"
      },
      "execution_count": 10,
      "outputs": [
        {
          "output_type": "stream",
          "name": "stdout",
          "text": [
            "2.2\n"
          ]
        }
      ]
    },
    {
      "cell_type": "markdown",
      "source": [
        "**Lect 3.4**"
      ],
      "metadata": {
        "id": "CUIzILEpXwXf"
      }
    },
    {
      "cell_type": "markdown",
      "source": [
        "**Using Numpy**"
      ],
      "metadata": {
        "id": "VI3otJTHijRg"
      }
    },
    {
      "cell_type": "code",
      "source": [
        "# data =pd.read_csv(\"/content/perceptron_toydata.txt\",header = None)\n",
        "# X = data.iloc[: , :-2].values\n",
        "# y = data.iloc[: , :-2].values\n",
        "# print(\"X shape:\", X.shape)\n",
        "# print(\"y shape:\", y.shape)\n",
        "data = pd.read_csv(\"/content/perceptron_toydata.txt\", delimiter='\\t', header=None)\n",
        "print(\"Data shape:\", data.shape)\n",
        "X = data.iloc[:, :-1].values  # first 2 columns\n",
        "y = data.iloc[:, -1].values   # last column\n",
        "# Check that it looks right\n",
        "print(\"X shape:\", X.shape)  # should be (100, 2)\n",
        "print(\"y shape:\", y.shape)  # should be (100,)\n"
      ],
      "metadata": {
        "colab": {
          "base_uri": "https://localhost:8080/"
        },
        "id": "71aOTMjqYyut",
        "outputId": "35499089-3835-4432-8c65-79178edd8e5e"
      },
      "execution_count": 11,
      "outputs": [
        {
          "output_type": "stream",
          "name": "stdout",
          "text": [
            "Data shape: (100, 3)\n",
            "X shape: (100, 2)\n",
            "y shape: (100,)\n"
          ]
        }
      ]
    },
    {
      "cell_type": "code",
      "source": [
        "# shuffle data and train-test split\n",
        "s_id = np.arange(y.shape[0])\n",
        "s_rn = np.random.RandomState(123)\n",
        "s_rn.shuffle(s_id)\n",
        "X,y = X[s_id],y[s_id]\n",
        "X_train , X_test = X[s_id[:70]] , X[s_id[70: ]]\n",
        "y_train , y_test = y[s_id[:70]] , y[s_id[70: ]]\n",
        "mu , sigma = X_train.mean(axis=0),X_train.std(axis=0)\n",
        "# normalise (mean zero , unit variance)\n",
        "X_train = (X_train - mu)/sigma\n",
        "X_test = (X_test - mu)/sigma"
      ],
      "metadata": {
        "id": "CNN4Y3E1aAsA"
      },
      "execution_count": 12,
      "outputs": []
    },
    {
      "cell_type": "code",
      "source": [
        "X_train.mean(axis=0)"
      ],
      "metadata": {
        "colab": {
          "base_uri": "https://localhost:8080/"
        },
        "id": "51vVZq4JbwdT",
        "outputId": "9526d3ce-6999-49b6-cc96-8fe9dc9623f9"
      },
      "execution_count": 13,
      "outputs": [
        {
          "output_type": "execute_result",
          "data": {
            "text/plain": [
              "array([2.06184276e-17, 7.93016446e-18])"
            ]
          },
          "metadata": {},
          "execution_count": 13
        }
      ]
    },
    {
      "cell_type": "code",
      "source": [
        "# import numpy as np\n",
        "\n",
        "class Perceptron():\n",
        "    def __init__(self, numf):\n",
        "        self.num_features = numf\n",
        "        self.weights = np.zeros((numf, 1), dtype=np.float32)\n",
        "        self.bias = np.zeros(1, dtype=np.float32)\n",
        "\n",
        "    def forward(self, x):\n",
        "        linear = np.dot(x, self.weights) + self.bias\n",
        "        predictions = np.where(linear > 0., 1, 0)\n",
        "        return predictions\n",
        "\n",
        "    def backward(self, x, y):\n",
        "        y = y.reshape(-1, 1)  # Make sure y is 2D to match predictions\n",
        "        predictions = self.forward(x)\n",
        "        errors = y - predictions\n",
        "        return errors\n",
        "\n",
        "    def train(self, x, y, epochs):\n",
        "        y = y.reshape(-1, 1)  # Ensure y is 2D for training\n",
        "        for e in range(epochs):\n",
        "            for i in range(y.shape[0]):\n",
        "                xi = x[i].reshape(1, self.num_features)      # shape (1, num_features)\n",
        "                yi = y[i].reshape(1, 1)                       # shape (1, 1)\n",
        "                errors = self.backward(xi, yi)                # shape (1, 1)\n",
        "                self.weights += (errors * xi).T               # broadcast properly\n",
        "                self.bias += errors.flatten()                 # add scalar error\n",
        "\n",
        "    def evaluate(self, x, y):\n",
        "        predictions = self.forward(x).reshape(-1)\n",
        "        accuracy = np.sum(predictions == y) / y.shape[0]\n",
        "        return accuracy\n"
      ],
      "metadata": {
        "id": "gkpktn_Fb81G"
      },
      "execution_count": 14,
      "outputs": []
    },
    {
      "cell_type": "code",
      "source": [
        "# p = Perceptron(numf=2)\n",
        "# p.train(X_train,y_train,epochs=5)\n",
        "\n",
        "# print('model parameters:\\n\\n')\n",
        "# print('weights:%s\\n' %p.weights)\n",
        "# print('bias:%s\\n' %p.bias)\n",
        "\n",
        "# Assume X and y are already defined\n",
        "p = Perceptron(numf=2)\n",
        "p.train(X, y, epochs=5)\n",
        "\n",
        "print(\"Model parameters:\")\n",
        "print(\"Weights:\\n\", p.weights)\n",
        "print(\"Bias:\\n\", p.bias)\n",
        "\n",
        "acc = p.evaluate(X, y)\n",
        "print(\"Accuracy on training data: %.2f%%\" % (acc * 100))\n"
      ],
      "metadata": {
        "colab": {
          "base_uri": "https://localhost:8080/"
        },
        "id": "ClVoMST6cF9E",
        "outputId": "dcd99156-4b97-4710-8172-d3e54c02c58e"
      },
      "execution_count": 15,
      "outputs": [
        {
          "output_type": "stream",
          "name": "stdout",
          "text": [
            "Model parameters:\n",
            "Weights:\n",
            " [[2.19     ]\n",
            " [0.8900001]]\n",
            "Bias:\n",
            " [-2.]\n",
            "Accuracy on training data: 100.00%\n"
          ]
        }
      ]
    },
    {
      "cell_type": "code",
      "source": [
        "import matplotlib.pyplot as plt\n",
        "\n",
        "plt.scatter(X[y==0][:, 0], X[y==0][:, 1], color='red', label='Class 0')\n",
        "plt.scatter(X[y==1][:, 0], X[y==1][:, 1], color='blue', label='Class 1')\n",
        "plt.legend()\n",
        "plt.title(\"Perceptron Toy Data\")\n",
        "plt.xlabel(\"Feature 1\")\n",
        "plt.ylabel(\"Feature 2\")\n",
        "plt.grid(True)\n",
        "plt.show()\n"
      ],
      "metadata": {
        "colab": {
          "base_uri": "https://localhost:8080/",
          "height": 472
        },
        "id": "5SizZF1JeY33",
        "outputId": "59a2b8a3-ecb7-4496-8ebd-db6451883ea1"
      },
      "execution_count": 16,
      "outputs": [
        {
          "output_type": "display_data",
          "data": {
            "text/plain": [
              "<Figure size 640x480 with 1 Axes>"
            ],
            "image/png": "[encoded data removed]"
          },
          "metadata": {}
        }
      ]
    },
    {
      "cell_type": "markdown",
      "source": [
        "**Using pytorch**"
      ],
      "metadata": {
        "id": "6m6iR0RZifPE"
      }
    },
    {
      "cell_type": "code",
      "source": [
        "  device = torch.device(\"cuda:0\" if torch.cuda.is_available() else \"cpu\")\n",
        "\n",
        "\n",
        "class Perceptron():\n",
        "    def __init__(self, num_features):\n",
        "        self.num_features = num_features\n",
        "        self.weights = torch.zeros(num_features, 1,\n",
        "                                   dtype=torch.float32, device=device)\n",
        "        self.bias = torch.zeros(1, dtype=torch.float32, device=device)\n",
        "        self.ones = torch.ones(1)\n",
        "        self.zeros = torch.zeros(1)\n",
        "    def forward(self, x):\n",
        "        linear = torch.mm(x, self.weights) + self.bias\n",
        "        predictions = torch.where(linear > 0., self.ones, self.zeros)\n",
        "        return predictions\n",
        "\n",
        "    def backward(self, x, y):\n",
        "        predictions = self.forward(x)\n",
        "        errors = y - predictions\n",
        "        return errors\n",
        "\n",
        "    def train(self, x, y, epochs):\n",
        "        for e in range(epochs):\n",
        "\n",
        "            for i in range(y.shape[0]):\n",
        "                errors = self.backward(x[i].reshape(1, self.num_features), y[i]).reshape(-1)\n",
        "                self.weights += (errors * x[i]).reshape(self.num_features, 1)\n",
        "                self.bias += errors\n",
        "\n",
        "    def evaluate(self, x, y):\n",
        "        predictions = self.forward(x).reshape(-1)\n",
        "        accuracy = torch.sum(predictions == y).float() / y.shape[0]\n",
        "        return accuracy\n"
      ],
      "metadata": {
        "id": "uLO9XYxvgqQA"
      },
      "execution_count": 17,
      "outputs": []
    },
    {
      "cell_type": "code",
      "source": [
        "ppn = Perceptron(num_features=2)\n",
        "\n",
        "X_train_tensor = torch.tensor(X_train, dtype=torch.float32, device=device)\n",
        "y_train_tensor = torch.tensor(y_train, dtype=torch.float32, device=device)\n",
        "\n",
        "ppn.train(X_train_tensor, y_train_tensor, epochs=5)\n",
        "\n",
        "print('Model parameters:')\n",
        "print('  Weights: %s' % ppn.weights)\n",
        "print('  Bias: %s' % ppn.bias)"
      ],
      "metadata": {
        "colab": {
          "base_uri": "https://localhost:8080/"
        },
        "id": "LCjGmBlSiXEY",
        "outputId": "d6e7b9fd-4f5e-4980-9ae7-938857540b79"
      },
      "execution_count": 18,
      "outputs": [
        {
          "output_type": "stream",
          "name": "stdout",
          "text": [
            "Model parameters:\n",
            "  Weights: tensor([[1.2734],\n",
            "        [1.3464]])\n",
            "  Bias: tensor([-1.])\n"
          ]
        }
      ]
    },
    {
      "cell_type": "code",
      "source": [
        "X_test_tensor = torch.tensor(X_test, dtype=torch.float32, device=device)\n",
        "y_test_tensor = torch.tensor(y_test, dtype=torch.float32, device=device)\n",
        "\n",
        "test_acc = ppn.evaluate(X_test_tensor, y_test_tensor)\n",
        "print('Test set accuracy: %.2f%%' % (test_acc*100))"
      ],
      "metadata": {
        "colab": {
          "base_uri": "https://localhost:8080/"
        },
        "id": "-pR7NuTmidCH",
        "outputId": "c90347a1-c4e8-465a-f8dc-dd607bab8090"
      },
      "execution_count": 19,
      "outputs": [
        {
          "output_type": "stream",
          "name": "stdout",
          "text": [
            "Test set accuracy: 93.33%\n"
          ]
        }
      ]
    },
    {
      "cell_type": "markdown",
      "source": [
        "**lect 4.1**"
      ],
      "metadata": {
        "id": "Jji56dEtrB7o"
      }
    },
    {
      "cell_type": "code",
      "source": [
        "t = torch.tensor([[1,2,3],[4,5,6]])\n",
        "print(t.shape)\n",
        "print(t.ndim)\n",
        "print(t.dtype)"
      ],
      "metadata": {
        "colab": {
          "base_uri": "https://localhost:8080/"
        },
        "id": "AMbfhoj3idwt",
        "outputId": "739900ed-a7b1-4fcd-d5d9-6fb441d1c3a4"
      },
      "execution_count": 20,
      "outputs": [
        {
          "output_type": "stream",
          "name": "stdout",
          "text": [
            "torch.Size([2, 3])\n",
            "2\n",
            "torch.int64\n"
          ]
        }
      ]
    },
    {
      "cell_type": "code",
      "source": [
        "print(t.matmul(t.T))\n",
        "# print(t.dot(t.T))\n",
        "print(t @(t.T))"
      ],
      "metadata": {
        "colab": {
          "base_uri": "https://localhost:8080/"
        },
        "id": "C7zjua5XsoCq",
        "outputId": "1c7bbf25-3aec-4be8-f316-0d190d66fa58"
      },
      "execution_count": 21,
      "outputs": [
        {
          "output_type": "stream",
          "name": "stdout",
          "text": [
            "tensor([[14, 32],\n",
            "        [32, 77]])\n",
            "tensor([[14, 32],\n",
            "        [32, 77]])\n"
          ]
        }
      ]
    },
    {
      "cell_type": "code",
      "source": [
        "print(torch.cuda.is_available())"
      ],
      "metadata": {
        "colab": {
          "base_uri": "https://localhost:8080/"
        },
        "id": "HK0sK9qwtSXK",
        "outputId": "2469131e-bca5-48ef-e092-60550e33fa8c"
      },
      "execution_count": 22,
      "outputs": [
        {
          "output_type": "stream",
          "name": "stdout",
          "text": [
            "False\n"
          ]
        }
      ]
    },
    {
      "cell_type": "code",
      "source": [
        "print(torch.tensor([1,2,3])+1)"
      ],
      "metadata": {
        "id": "1DVCPKYmva7o",
        "colab": {
          "base_uri": "https://localhost:8080/"
        },
        "outputId": "aa904413-29e5-426b-8fa4-3f4db1c6620d"
      },
      "execution_count": 24,
      "outputs": [
        {
          "output_type": "stream",
          "name": "stdout",
          "text": [
            "tensor([2, 3, 4])\n"
          ]
        }
      ]
    },
    {
      "cell_type": "code",
      "source": [],
      "metadata": {
        "id": "rotm2-3vYfrn"
      },
      "execution_count": null,
      "outputs": []
    }
  ]
}