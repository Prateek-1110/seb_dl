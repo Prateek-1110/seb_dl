{
  "nbformat": 4,
  "nbformat_minor": 0,
  "metadata": {
    "colab": {
      "provenance": [],
      "authorship_tag": "ABX9TyP03sBWbEqLC1y8JvZOzn1e",
      "include_colab_link": true
    },
    "kernelspec": {
      "name": "python3",
      "display_name": "Python 3"
    },
    "language_info": {
      "name": "python"
    }
  },
  "cells": [
    {
      "cell_type": "markdown",
      "metadata": {
        "id": "view-in-github",
        "colab_type": "text"
      },
      "source": [
        "<a href=\"https://colab.research.google.com/github/Prateek-1110/seb_dl/blob/main/24may.ipynb\" target=\"_parent\"><img src=\"https://colab.research.google.com/assets/colab-badge.svg\" alt=\"Open In Colab\"/></a>"
      ]
    },
    {
      "cell_type": "code",
      "source": [
        "import torch\n",
        "import matplotlib.pyplot as plt\n",
        "import pandas as pd\n",
        "import numpy as np"
      ],
      "metadata": {
        "id": "TkHRTWxwa-lJ"
      },
      "execution_count": 80,
      "outputs": []
    },
    {
      "cell_type": "markdown",
      "source": [
        "**LECT 4.3**"
      ],
      "metadata": {
        "id": "Q3YPS5PpaIIN"
      }
    },
    {
      "cell_type": "code",
      "execution_count": 81,
      "metadata": {
        "colab": {
          "base_uri": "https://localhost:8080/"
        },
        "id": "md0Wg6rDZ0kM",
        "outputId": "e7c22947-7f22-46bc-e995-31600f9d0d59"
      },
      "outputs": [
        {
          "output_type": "stream",
          "name": "stdout",
          "text": [
            "tensor([[0, 1, 2],\n",
            "        [3, 4, 5]])\n"
          ]
        }
      ],
      "source": [
        "X = torch.arange(6).view(2,3)\n",
        "print(X)"
      ]
    },
    {
      "cell_type": "code",
      "source": [
        "w = torch.tensor([1,2,3])\n",
        "X.matmul(w)"
      ],
      "metadata": {
        "colab": {
          "base_uri": "https://localhost:8080/"
        },
        "id": "u6cZ_b1IdPIZ",
        "outputId": "bd764dbd-7e36-4dfe-9cb4-f27703aea89a"
      },
      "execution_count": 82,
      "outputs": [
        {
          "output_type": "execute_result",
          "data": {
            "text/plain": [
              "tensor([ 8, 26])"
            ]
          },
          "metadata": {},
          "execution_count": 82
        }
      ]
    },
    {
      "cell_type": "code",
      "source": [
        "# w = w.view(-1,1) -> this reshape the w tensor as (1,2,3)but in 1x3 not in 3x1( horizontal se vertical ho jayega)\n",
        "print(w)\n",
        "y = X@w\n",
        "print(y)\n"
      ],
      "metadata": {
        "colab": {
          "base_uri": "https://localhost:8080/"
        },
        "id": "sF9a8RKPdXNR",
        "outputId": "4aa093a8-49c3-423d-91f8-94c5b8890804"
      },
      "execution_count": 83,
      "outputs": [
        {
          "output_type": "stream",
          "name": "stdout",
          "text": [
            "tensor([1, 2, 3])\n",
            "tensor([ 8, 26])\n"
          ]
        }
      ]
    },
    {
      "cell_type": "code",
      "source": [
        "print(y+torch.tensor([2,3]))"
      ],
      "metadata": {
        "colab": {
          "base_uri": "https://localhost:8080/"
        },
        "id": "H4586xPJdaXW",
        "outputId": "c07d9efd-571e-466d-dabd-b909f0d7430a"
      },
      "execution_count": 84,
      "outputs": [
        {
          "output_type": "stream",
          "name": "stdout",
          "text": [
            "tensor([10, 29])\n"
          ]
        }
      ]
    },
    {
      "cell_type": "markdown",
      "source": [
        "**Lect 4.5**"
      ],
      "metadata": {
        "id": "zxkIzuueiXUa"
      }
    },
    {
      "cell_type": "code",
      "source": [
        "x = torch.arange(50,dtype = torch.float).view(10,5)\n",
        "print(x)"
      ],
      "metadata": {
        "colab": {
          "base_uri": "https://localhost:8080/"
        },
        "id": "2m9hzmQ7eIxo",
        "outputId": "70f02f32-4820-4287-afbc-c136f9b892b6"
      },
      "execution_count": 85,
      "outputs": [
        {
          "output_type": "stream",
          "name": "stdout",
          "text": [
            "tensor([[ 0.,  1.,  2.,  3.,  4.],\n",
            "        [ 5.,  6.,  7.,  8.,  9.],\n",
            "        [10., 11., 12., 13., 14.],\n",
            "        [15., 16., 17., 18., 19.],\n",
            "        [20., 21., 22., 23., 24.],\n",
            "        [25., 26., 27., 28., 29.],\n",
            "        [30., 31., 32., 33., 34.],\n",
            "        [35., 36., 37., 38., 39.],\n",
            "        [40., 41., 42., 43., 44.],\n",
            "        [45., 46., 47., 48., 49.]])\n"
          ]
        }
      ]
    },
    {
      "cell_type": "code",
      "source": [
        "fc_layer = torch.nn.Linear(in_features=5 , out_features=3)\n",
        "# this means 5 input feature and 3 output feature"
      ],
      "metadata": {
        "id": "XDI-G8NqijOk"
      },
      "execution_count": 86,
      "outputs": []
    },
    {
      "cell_type": "code",
      "source": [
        "fc_layer.weight\n",
        "# these values are random , no relation with anything"
      ],
      "metadata": {
        "colab": {
          "base_uri": "https://localhost:8080/"
        },
        "id": "ITNElZxbirHU",
        "outputId": "809fc52d-1e71-4d1b-c104-24d00d5814de"
      },
      "execution_count": 87,
      "outputs": [
        {
          "output_type": "execute_result",
          "data": {
            "text/plain": [
              "Parameter containing:\n",
              "tensor([[ 0.0017,  0.3866,  0.4117,  0.2763,  0.1114],\n",
              "        [-0.2727, -0.2873,  0.0683,  0.3245,  0.0430],\n",
              "        [ 0.2816,  0.3589,  0.3758, -0.1991, -0.1986]], requires_grad=True)"
            ]
          },
          "metadata": {},
          "execution_count": 87
        }
      ]
    },
    {
      "cell_type": "code",
      "source": [
        "fc_layer.bias\n"
      ],
      "metadata": {
        "colab": {
          "base_uri": "https://localhost:8080/"
        },
        "id": "z-Y5Utl-isz6",
        "outputId": "499537d6-1433-4ef6-8042-f0fb68242c35"
      },
      "execution_count": 88,
      "outputs": [
        {
          "output_type": "execute_result",
          "data": {
            "text/plain": [
              "Parameter containing:\n",
              "tensor([0.3801, 0.0786, 0.3853], requires_grad=True)"
            ]
          },
          "metadata": {},
          "execution_count": 88
        }
      ]
    },
    {
      "cell_type": "code",
      "source": [
        "print('X dim:',x.size())\n",
        "print('W dim:',fc_layer.weight.size())\n",
        "print('b dim:',fc_layer.bias.size())\n",
        "A = fc_layer(x)\n",
        "print('A: ',A)\n",
        "print('A dim: ',A.size())\n",
        "\n",
        "# x has dim [10,5] as we initialise x as 10,5 then W  has dim [3,5] like we have 5 input , 3 output layers\n",
        "#  b has 3 as dimension as [3] output layer , A has [10 , 3] as dim as we transpose w and then A has dim of n x h"
      ],
      "metadata": {
        "colab": {
          "base_uri": "https://localhost:8080/"
        },
        "id": "MlezpJCniw71",
        "outputId": "a692a042-db88-4a09-a1e9-8f49330c44b5"
      },
      "execution_count": 89,
      "outputs": [
        {
          "output_type": "stream",
          "name": "stdout",
          "text": [
            "X dim: torch.Size([10, 5])\n",
            "W dim: torch.Size([3, 5])\n",
            "b dim: torch.Size([3])\n",
            "A:  tensor([[ 2.8644,  1.0735,  0.1042],\n",
            "        [ 8.8028,  0.4529,  3.1971],\n",
            "        [14.7411, -0.1676,  6.2901],\n",
            "        [20.6794, -0.7881,  9.3831],\n",
            "        [26.6178, -1.4087, 12.4761],\n",
            "        [32.5561, -2.0292, 15.5691],\n",
            "        [38.4945, -2.6497, 18.6621],\n",
            "        [44.4328, -3.2703, 21.7550],\n",
            "        [50.3711, -3.8908, 24.8480],\n",
            "        [56.3095, -4.5114, 27.9410]], grad_fn=<AddmmBackward0>)\n",
            "A dim:  torch.Size([10, 3])\n"
          ]
        }
      ]
    },
    {
      "cell_type": "markdown",
      "source": [
        "**Some useful rules**.................\n",
        "\n",
        "1. AB = (B.T . A.T).T\n",
        "2. (AB).T = B.T . A.T"
      ],
      "metadata": {
        "id": "oXXwuHmvlMOh"
      }
    },
    {
      "cell_type": "markdown",
      "source": [
        "**CHAP 5**"
      ],
      "metadata": {
        "id": "b2p_ZBXAoRzF"
      }
    },
    {
      "cell_type": "markdown",
      "source": [
        "Linear regression"
      ],
      "metadata": {
        "id": "hBXDSqLx9FAV"
      }
    },
    {
      "cell_type": "code",
      "source": [
        "df = pd.read_csv(\"/content/linreg-data.csv\",index_col=0)\n",
        "df.tail()"
      ],
      "metadata": {
        "id": "Rnc5104RjhM3",
        "colab": {
          "base_uri": "https://localhost:8080/",
          "height": 206
        },
        "outputId": "bb88e040-97e8-4cbf-ad63-c3fed5bc05da"
      },
      "execution_count": 90,
      "outputs": [
        {
          "output_type": "execute_result",
          "data": {
            "text/plain": [
              "           x1        x2          y\n",
              "995 -0.942094 -0.835856 -22.324428\n",
              "996  1.222445 -0.403177 -52.121493\n",
              "997 -0.112466 -1.688230 -57.043196\n",
              "998 -0.403459 -0.412272 -27.701833\n",
              "999  0.021351 -0.499017  -9.804714"
            ],
            "text/html": [
              "\n",
              "  <div id=\"df-7b87c9b0-991a-4084-baaa-34596e1bad33\" class=\"colab-df-container\">\n",
              "    <div>\n",
              "<style scoped>\n",
              "    .dataframe tbody tr th:only-of-type {\n",
              "        vertical-align: middle;\n",
              "    }\n",
              "\n",
              "    .dataframe tbody tr th {\n",
              "        vertical-align: top;\n",
              "    }\n",
              "\n",
              "    .dataframe thead th {\n",
              "        text-align: right;\n",
              "    }\n",
              "</style>\n",
              "<table border=\"1\" class=\"dataframe\">\n",
              "  <thead>\n",
              "    <tr style=\"text-align: right;\">\n",
              "      <th></th>\n",
              "      <th>x1</th>\n",
              "      <th>x2</th>\n",
              "      <th>y</th>\n",
              "    </tr>\n",
              "  </thead>\n",
              "  <tbody>\n",
              "    <tr>\n",
              "      <th>995</th>\n",
              "      <td>-0.942094</td>\n",
              "      <td>-0.835856</td>\n",
              "      <td>-22.324428</td>\n",
              "    </tr>\n",
              "    <tr>\n",
              "      <th>996</th>\n",
              "      <td>1.222445</td>\n",
              "      <td>-0.403177</td>\n",
              "      <td>-52.121493</td>\n",
              "    </tr>\n",
              "    <tr>\n",
              "      <th>997</th>\n",
              "      <td>-0.112466</td>\n",
              "      <td>-1.688230</td>\n",
              "      <td>-57.043196</td>\n",
              "    </tr>\n",
              "    <tr>\n",
              "      <th>998</th>\n",
              "      <td>-0.403459</td>\n",
              "      <td>-0.412272</td>\n",
              "      <td>-27.701833</td>\n",
              "    </tr>\n",
              "    <tr>\n",
              "      <th>999</th>\n",
              "      <td>0.021351</td>\n",
              "      <td>-0.499017</td>\n",
              "      <td>-9.804714</td>\n",
              "    </tr>\n",
              "  </tbody>\n",
              "</table>\n",
              "</div>\n",
              "    <div class=\"colab-df-buttons\">\n",
              "\n",
              "  <div class=\"colab-df-container\">\n",
              "    <button class=\"colab-df-convert\" onclick=\"convertToInteractive('df-7b87c9b0-991a-4084-baaa-34596e1bad33')\"\n",
              "            title=\"Convert this dataframe to an interactive table.\"\n",
              "            style=\"display:none;\">\n",
              "\n",
              "  <svg xmlns=\"http://www.w3.org/2000/svg\" height=\"24px\" viewBox=\"0 -960 960 960\">\n",
              "    <path d=\"M120-120v-720h720v720H120Zm60-500h600v-160H180v160Zm220 220h160v-160H400v160Zm0 220h160v-160H400v160ZM180-400h160v-160H180v160Zm440 0h160v-160H620v160ZM180-180h160v-160H180v160Zm440 0h160v-160H620v160Z\"/>\n",
              "  </svg>\n",
              "    </button>\n",
              "\n",
              "  <style>\n",
              "    .colab-df-container {\n",
              "      display:flex;\n",
              "      gap: 12px;\n",
              "    }\n",
              "\n",
              "    .colab-df-convert {\n",
              "      background-color: #E8F0FE;\n",
              "      border: none;\n",
              "      border-radius: 50%;\n",
              "      cursor: pointer;\n",
              "      display: none;\n",
              "      fill: #1967D2;\n",
              "      height: 32px;\n",
              "      padding: 0 0 0 0;\n",
              "      width: 32px;\n",
              "    }\n",
              "\n",
              "    .colab-df-convert:hover {\n",
              "      background-color: #E2EBFA;\n",
              "      box-shadow: 0px 1px 2px rgba(60, 64, 67, 0.3), 0px 1px 3px 1px rgba(60, 64, 67, 0.15);\n",
              "      fill: #174EA6;\n",
              "    }\n",
              "\n",
              "    .colab-df-buttons div {\n",
              "      margin-bottom: 4px;\n",
              "    }\n",
              "\n",
              "    [theme=dark] .colab-df-convert {\n",
              "      background-color: #3B4455;\n",
              "      fill: #D2E3FC;\n",
              "    }\n",
              "\n",
              "    [theme=dark] .colab-df-convert:hover {\n",
              "      background-color: #434B5C;\n",
              "      box-shadow: 0px 1px 3px 1px rgba(0, 0, 0, 0.15);\n",
              "      filter: drop-shadow(0px 1px 2px rgba(0, 0, 0, 0.3));\n",
              "      fill: #FFFFFF;\n",
              "    }\n",
              "  </style>\n",
              "\n",
              "    <script>\n",
              "      const buttonEl =\n",
              "        document.querySelector('#df-7b87c9b0-991a-4084-baaa-34596e1bad33 button.colab-df-convert');\n",
              "      buttonEl.style.display =\n",
              "        google.colab.kernel.accessAllowed ? 'block' : 'none';\n",
              "\n",
              "      async function convertToInteractive(key) {\n",
              "        const element = document.querySelector('#df-7b87c9b0-991a-4084-baaa-34596e1bad33');\n",
              "        const dataTable =\n",
              "          await google.colab.kernel.invokeFunction('convertToInteractive',\n",
              "                                                    [key], {});\n",
              "        if (!dataTable) return;\n",
              "\n",
              "        const docLinkHtml = 'Like what you see? Visit the ' +\n",
              "          '<a target=\"_blank\" href=https://colab.research.google.com/notebooks/data_table.ipynb>data table notebook</a>'\n",
              "          + ' to learn more about interactive tables.';\n",
              "        element.innerHTML = '';\n",
              "        dataTable['output_type'] = 'display_data';\n",
              "        await google.colab.output.renderOutput(dataTable, element);\n",
              "        const docLink = document.createElement('div');\n",
              "        docLink.innerHTML = docLinkHtml;\n",
              "        element.appendChild(docLink);\n",
              "      }\n",
              "    </script>\n",
              "  </div>\n",
              "\n",
              "\n",
              "    <div id=\"df-4820dde5-da51-4f09-9335-3fff59d23767\">\n",
              "      <button class=\"colab-df-quickchart\" onclick=\"quickchart('df-4820dde5-da51-4f09-9335-3fff59d23767')\"\n",
              "                title=\"Suggest charts\"\n",
              "                style=\"display:none;\">\n",
              "\n",
              "<svg xmlns=\"http://www.w3.org/2000/svg\" height=\"24px\"viewBox=\"0 0 24 24\"\n",
              "     width=\"24px\">\n",
              "    <g>\n",
              "        <path d=\"M19 3H5c-1.1 0-2 .9-2 2v14c0 1.1.9 2 2 2h14c1.1 0 2-.9 2-2V5c0-1.1-.9-2-2-2zM9 17H7v-7h2v7zm4 0h-2V7h2v10zm4 0h-2v-4h2v4z\"/>\n",
              "    </g>\n",
              "</svg>\n",
              "      </button>\n",
              "\n",
              "<style>\n",
              "  .colab-df-quickchart {\n",
              "      --bg-color: #E8F0FE;\n",
              "      --fill-color: #1967D2;\n",
              "      --hover-bg-color: #E2EBFA;\n",
              "      --hover-fill-color: #174EA6;\n",
              "      --disabled-fill-color: #AAA;\n",
              "      --disabled-bg-color: #DDD;\n",
              "  }\n",
              "\n",
              "  [theme=dark] .colab-df-quickchart {\n",
              "      --bg-color: #3B4455;\n",
              "      --fill-color: #D2E3FC;\n",
              "      --hover-bg-color: #434B5C;\n",
              "      --hover-fill-color: #FFFFFF;\n",
              "      --disabled-bg-color: #3B4455;\n",
              "      --disabled-fill-color: #666;\n",
              "  }\n",
              "\n",
              "  .colab-df-quickchart {\n",
              "    background-color: var(--bg-color);\n",
              "    border: none;\n",
              "    border-radius: 50%;\n",
              "    cursor: pointer;\n",
              "    display: none;\n",
              "    fill: var(--fill-color);\n",
              "    height: 32px;\n",
              "    padding: 0;\n",
              "    width: 32px;\n",
              "  }\n",
              "\n",
              "  .colab-df-quickchart:hover {\n",
              "    background-color: var(--hover-bg-color);\n",
              "    box-shadow: 0 1px 2px rgba(60, 64, 67, 0.3), 0 1px 3px 1px rgba(60, 64, 67, 0.15);\n",
              "    fill: var(--button-hover-fill-color);\n",
              "  }\n",
              "\n",
              "  .colab-df-quickchart-complete:disabled,\n",
              "  .colab-df-quickchart-complete:disabled:hover {\n",
              "    background-color: var(--disabled-bg-color);\n",
              "    fill: var(--disabled-fill-color);\n",
              "    box-shadow: none;\n",
              "  }\n",
              "\n",
              "  .colab-df-spinner {\n",
              "    border: 2px solid var(--fill-color);\n",
              "    border-color: transparent;\n",
              "    border-bottom-color: var(--fill-color);\n",
              "    animation:\n",
              "      spin 1s steps(1) infinite;\n",
              "  }\n",
              "\n",
              "  @keyframes spin {\n",
              "    0% {\n",
              "      border-color: transparent;\n",
              "      border-bottom-color: var(--fill-color);\n",
              "      border-left-color: var(--fill-color);\n",
              "    }\n",
              "    20% {\n",
              "      border-color: transparent;\n",
              "      border-left-color: var(--fill-color);\n",
              "      border-top-color: var(--fill-color);\n",
              "    }\n",
              "    30% {\n",
              "      border-color: transparent;\n",
              "      border-left-color: var(--fill-color);\n",
              "      border-top-color: var(--fill-color);\n",
              "      border-right-color: var(--fill-color);\n",
              "    }\n",
              "    40% {\n",
              "      border-color: transparent;\n",
              "      border-right-color: var(--fill-color);\n",
              "      border-top-color: var(--fill-color);\n",
              "    }\n",
              "    60% {\n",
              "      border-color: transparent;\n",
              "      border-right-color: var(--fill-color);\n",
              "    }\n",
              "    80% {\n",
              "      border-color: transparent;\n",
              "      border-right-color: var(--fill-color);\n",
              "      border-bottom-color: var(--fill-color);\n",
              "    }\n",
              "    90% {\n",
              "      border-color: transparent;\n",
              "      border-bottom-color: var(--fill-color);\n",
              "    }\n",
              "  }\n",
              "</style>\n",
              "\n",
              "      <script>\n",
              "        async function quickchart(key) {\n",
              "          const quickchartButtonEl =\n",
              "            document.querySelector('#' + key + ' button');\n",
              "          quickchartButtonEl.disabled = true;  // To prevent multiple clicks.\n",
              "          quickchartButtonEl.classList.add('colab-df-spinner');\n",
              "          try {\n",
              "            const charts = await google.colab.kernel.invokeFunction(\n",
              "                'suggestCharts', [key], {});\n",
              "          } catch (error) {\n",
              "            console.error('Error during call to suggestCharts:', error);\n",
              "          }\n",
              "          quickchartButtonEl.classList.remove('colab-df-spinner');\n",
              "          quickchartButtonEl.classList.add('colab-df-quickchart-complete');\n",
              "        }\n",
              "        (() => {\n",
              "          let quickchartButtonEl =\n",
              "            document.querySelector('#df-4820dde5-da51-4f09-9335-3fff59d23767 button');\n",
              "          quickchartButtonEl.style.display =\n",
              "            google.colab.kernel.accessAllowed ? 'block' : 'none';\n",
              "        })();\n",
              "      </script>\n",
              "    </div>\n",
              "\n",
              "    </div>\n",
              "  </div>\n"
            ],
            "application/vnd.google.colaboratory.intrinsic+json": {
              "type": "dataframe",
              "summary": "{\n  \"name\": \"df\",\n  \"rows\": 5,\n  \"fields\": [\n    {\n      \"column\": \"x1\",\n      \"properties\": {\n        \"dtype\": \"number\",\n        \"std\": 0.7982195517976725,\n        \"min\": -0.942093589,\n        \"max\": 1.22244507,\n        \"num_unique_values\": 5,\n        \"samples\": [\n          1.22244507,\n          0.021351224,\n          -0.112465983\n        ],\n        \"semantic_type\": \"\",\n        \"description\": \"\"\n      }\n    },\n    {\n      \"column\": \"x2\",\n      \"properties\": {\n        \"dtype\": \"number\",\n        \"std\": 0.5439250462879333,\n        \"min\": -1.688230028,\n        \"max\": -0.403176947,\n        \"num_unique_values\": 5,\n        \"samples\": [\n          -0.403176947,\n          -0.499016638,\n          -1.688230028\n        ],\n        \"semantic_type\": \"\",\n        \"description\": \"\"\n      }\n    },\n    {\n      \"column\": \"y\",\n      \"properties\": {\n        \"dtype\": \"number\",\n        \"std\": 20.128173114723236,\n        \"min\": -57.04319598,\n        \"max\": -9.804714077,\n        \"num_unique_values\": 5,\n        \"samples\": [\n          -52.12149344,\n          -9.804714077,\n          -57.04319598\n        ],\n        \"semantic_type\": \"\",\n        \"description\": \"\"\n      }\n    }\n  ]\n}"
            }
          },
          "metadata": {},
          "execution_count": 90
        }
      ]
    },
    {
      "cell_type": "code",
      "source": [
        "df.shape"
      ],
      "metadata": {
        "colab": {
          "base_uri": "https://localhost:8080/"
        },
        "id": "iJqAbTPo1dDl",
        "outputId": "55fb449e-d873-43ec-c432-23128fdaa705"
      },
      "execution_count": 91,
      "outputs": [
        {
          "output_type": "execute_result",
          "data": {
            "text/plain": [
              "(1000, 3)"
            ]
          },
          "metadata": {},
          "execution_count": 91
        }
      ]
    },
    {
      "cell_type": "code",
      "source": [
        "X = torch.tensor(df[['x1', 'x2']].values, dtype=torch.float)\n",
        "y = torch.tensor(df['y'].values, dtype=torch.float)\n",
        "\n",
        "# Shuffling & train/test split\n",
        "\n",
        "torch.manual_seed(123)\n",
        "shuffle_idx = torch.randperm(y.size(0), dtype=torch.long)\n",
        "\n",
        "X, y = X[shuffle_idx], y[shuffle_idx]\n",
        "\n",
        "percent70 = int(shuffle_idx.size(0)*0.7)\n",
        "\n",
        "X_train, X_test = X[shuffle_idx[:percent70]], X[shuffle_idx[percent70:]]\n",
        "y_train, y_test = y[shuffle_idx[:percent70]], y[shuffle_idx[percent70:]]\n",
        "\n",
        "# Normalize (mean zero, unit variance)\n",
        "\n",
        "mu, sigma = X_train.mean(dim=0), X_train.std(dim=0)\n",
        "X_train = (X_train - mu) / sigma\n",
        "X_test = (X_test - mu) / sigma"
      ],
      "metadata": {
        "id": "EKaQCN6z1j7P"
      },
      "execution_count": 92,
      "outputs": []
    },
    {
      "cell_type": "code",
      "source": [
        "class LinearRegression1():\n",
        "    def __init__(self, num_features):\n",
        "        self.num_features = num_features\n",
        "        self.weights = torch.zeros(num_features, 1, dtype=torch.float)\n",
        "        self.bias = torch.zeros(1, dtype=torch.float)\n",
        "\n",
        "    def forward(self, x):\n",
        "        netinputs = torch.add(torch.mm(x, self.weights), self.bias)\n",
        "        activations = netinputs\n",
        "        return activations.view(-1)\n",
        "\n",
        "    def backward(self, x, yhat, y):\n",
        "\n",
        "        grad_loss_yhat = 2*(yhat - y)\n",
        "\n",
        "        grad_yhat_weights = x\n",
        "        grad_yhat_bias = 1.\n",
        "\n",
        "        # Chain rule: inner times outer\n",
        "        grad_loss_weights =  torch.mm(grad_yhat_weights.t(),grad_loss_yhat.view(-1, 1)) / y.size(0)\n",
        "\n",
        "        grad_loss_bias = torch.sum(grad_yhat_bias*grad_loss_yhat) / y.size(0)\n",
        "\n",
        "        # return negative gradient\n",
        "        return (-1)*grad_loss_weights, (-1)*grad_loss_bias"
      ],
      "metadata": {
        "id": "tKcDjke72rMJ"
      },
      "execution_count": 93,
      "outputs": []
    },
    {
      "cell_type": "code",
      "source": [
        "def loss(yhat, y):\n",
        "    return torch.mean((yhat - y)**2)\n",
        "\n",
        "\n",
        "def train(model, x, y, num_epochs, learning_rate=0.01):\n",
        "    cost = []\n",
        "    for e in range(num_epochs):\n",
        "      yhat = model.forward(x)\n",
        "      negative_grad_w, negative_grad_b = model.backward(x, yhat, y)\n",
        "      model.weights += learning_rate * negative_grad_w\n",
        "      model.bias += learning_rate * negative_grad_b\n",
        "      yhat = model.forward(x) # not that this is a bit wasteful here\n",
        "      curr_loss = loss(yhat, y)\n",
        "      print('Epoch: %03d' % (e+1), end=\"\")\n",
        "      print(' | MSE: %.5f' % curr_loss)\n",
        "      cost.append(curr_loss)\n",
        "\n",
        "    return cost"
      ],
      "metadata": {
        "id": "FPYdnmEb4Q2_"
      },
      "execution_count": 94,
      "outputs": []
    },
    {
      "cell_type": "code",
      "source": [
        "model = LinearRegression1(num_features=X_train.size(1))\n",
        "cost = train(model, X_train, y_train, num_epochs=100, learning_rate=0.05)"
      ],
      "metadata": {
        "colab": {
          "base_uri": "https://localhost:8080/"
        },
        "id": "anrCh6MX7NRb",
        "outputId": "1c902c0c-3a67-4861-e9d4-a8915d1beace"
      },
      "execution_count": 95,
      "outputs": [
        {
          "output_type": "stream",
          "name": "stdout",
          "text": [
            "Epoch: 001 | MSE: 1532.67603\n",
            "Epoch: 002 | MSE: 1312.39868\n",
            "Epoch: 003 | MSE: 1133.91809\n",
            "Epoch: 004 | MSE: 989.30286\n",
            "Epoch: 005 | MSE: 872.12592\n",
            "Epoch: 006 | MSE: 777.18097\n",
            "Epoch: 007 | MSE: 700.24915\n",
            "Epoch: 008 | MSE: 637.91241\n",
            "Epoch: 009 | MSE: 587.40167\n",
            "Epoch: 010 | MSE: 546.47284\n",
            "Epoch: 011 | MSE: 513.30811\n",
            "Epoch: 012 | MSE: 486.43430\n",
            "Epoch: 013 | MSE: 464.65799\n",
            "Epoch: 014 | MSE: 447.01224\n",
            "Epoch: 015 | MSE: 432.71332\n",
            "Epoch: 016 | MSE: 421.12634\n",
            "Epoch: 017 | MSE: 411.73697\n",
            "Epoch: 018 | MSE: 404.12827\n",
            "Epoch: 019 | MSE: 397.96249\n",
            "Epoch: 020 | MSE: 392.96603\n",
            "Epoch: 021 | MSE: 388.91708\n",
            "Epoch: 022 | MSE: 385.63583\n",
            "Epoch: 023 | MSE: 382.97684\n",
            "Epoch: 024 | MSE: 380.82202\n",
            "Epoch: 025 | MSE: 379.07571\n",
            "Epoch: 026 | MSE: 377.66052\n",
            "Epoch: 027 | MSE: 376.51367\n",
            "Epoch: 028 | MSE: 375.58420\n",
            "Epoch: 029 | MSE: 374.83102\n",
            "Epoch: 030 | MSE: 374.22055\n",
            "Epoch: 031 | MSE: 373.72586\n",
            "Epoch: 032 | MSE: 373.32489\n",
            "Epoch: 033 | MSE: 372.99994\n",
            "Epoch: 034 | MSE: 372.73657\n",
            "Epoch: 035 | MSE: 372.52313\n",
            "Epoch: 036 | MSE: 372.35016\n",
            "Epoch: 037 | MSE: 372.20999\n",
            "Epoch: 038 | MSE: 372.09637\n",
            "Epoch: 039 | MSE: 372.00427\n",
            "Epoch: 040 | MSE: 371.92963\n",
            "Epoch: 041 | MSE: 371.86914\n",
            "Epoch: 042 | MSE: 371.82010\n",
            "Epoch: 043 | MSE: 371.78036\n",
            "Epoch: 044 | MSE: 371.74814\n",
            "Epoch: 045 | MSE: 371.72202\n",
            "Epoch: 046 | MSE: 371.70090\n",
            "Epoch: 047 | MSE: 371.68372\n",
            "Epoch: 048 | MSE: 371.66983\n",
            "Epoch: 049 | MSE: 371.65854\n",
            "Epoch: 050 | MSE: 371.64941\n",
            "Epoch: 051 | MSE: 371.64206\n",
            "Epoch: 052 | MSE: 371.63602\n",
            "Epoch: 053 | MSE: 371.63116\n",
            "Epoch: 054 | MSE: 371.62723\n",
            "Epoch: 055 | MSE: 371.62402\n",
            "Epoch: 056 | MSE: 371.62146\n",
            "Epoch: 057 | MSE: 371.61929\n",
            "Epoch: 058 | MSE: 371.61765\n",
            "Epoch: 059 | MSE: 371.61621\n",
            "Epoch: 060 | MSE: 371.61511\n",
            "Epoch: 061 | MSE: 371.61423\n",
            "Epoch: 062 | MSE: 371.61349\n",
            "Epoch: 063 | MSE: 371.61292\n",
            "Epoch: 064 | MSE: 371.61243\n",
            "Epoch: 065 | MSE: 371.61200\n",
            "Epoch: 066 | MSE: 371.61169\n",
            "Epoch: 067 | MSE: 371.61145\n",
            "Epoch: 068 | MSE: 371.61124\n",
            "Epoch: 069 | MSE: 371.61108\n",
            "Epoch: 070 | MSE: 371.61093\n",
            "Epoch: 071 | MSE: 371.61081\n",
            "Epoch: 072 | MSE: 371.61072\n",
            "Epoch: 073 | MSE: 371.61066\n",
            "Epoch: 074 | MSE: 371.61060\n",
            "Epoch: 075 | MSE: 371.61057\n",
            "Epoch: 076 | MSE: 371.61053\n",
            "Epoch: 077 | MSE: 371.61050\n",
            "Epoch: 078 | MSE: 371.61047\n",
            "Epoch: 079 | MSE: 371.61041\n",
            "Epoch: 080 | MSE: 371.61041\n",
            "Epoch: 081 | MSE: 371.61041\n",
            "Epoch: 082 | MSE: 371.61041\n",
            "Epoch: 083 | MSE: 371.61041\n",
            "Epoch: 084 | MSE: 371.61041\n",
            "Epoch: 085 | MSE: 371.61035\n",
            "Epoch: 086 | MSE: 371.61035\n",
            "Epoch: 087 | MSE: 371.61038\n",
            "Epoch: 088 | MSE: 371.61035\n",
            "Epoch: 089 | MSE: 371.61032\n",
            "Epoch: 090 | MSE: 371.61032\n",
            "Epoch: 091 | MSE: 371.61035\n",
            "Epoch: 092 | MSE: 371.61035\n",
            "Epoch: 093 | MSE: 371.61032\n",
            "Epoch: 094 | MSE: 371.61032\n",
            "Epoch: 095 | MSE: 371.61035\n",
            "Epoch: 096 | MSE: 371.61035\n",
            "Epoch: 097 | MSE: 371.61032\n",
            "Epoch: 098 | MSE: 371.61035\n",
            "Epoch: 099 | MSE: 371.61035\n",
            "Epoch: 100 | MSE: 371.61035\n"
          ]
        }
      ]
    },
    {
      "cell_type": "markdown",
      "source": [
        "modifying train function to shuffle dataset prior to each epoch"
      ],
      "metadata": {
        "id": "9-JYeqDv8hqy"
      }
    },
    {
      "cell_type": "code",
      "source": [
        "def loss(yhat, y):\n",
        "    return torch.mean((yhat - y)**2)\n",
        "\n",
        "def train1(model, x, y, num_epochs, learning_rate=0.01):\n",
        "    cost = []\n",
        "    for e in range(num_epochs):\n",
        "        # Shuffle the dataset\n",
        "        indices = np.random.permutation(len(x))\n",
        "        x_shuffled = x[indices]\n",
        "        y_shuffled = y[indices]\n",
        "\n",
        "        # Forward and backward pass on shuffled data\n",
        "        yhat = model.forward(x_shuffled)\n",
        "        negative_grad_w, negative_grad_b = model.backward(x_shuffled, yhat, y_shuffled)\n",
        "        model.weights += learning_rate * negative_grad_w\n",
        "        model.bias += learning_rate * negative_grad_b\n",
        "\n",
        "        # Compute loss (can be done on original or shuffled set)\n",
        "        yhat = model.forward(x_shuffled)  # Optional second forward\n",
        "        curr_loss = loss(yhat, y_shuffled)\n",
        "        print('Epoch: %03d' % (e+1), end=\"\")\n",
        "        print(' | MSE: %.5f' % curr_loss)\n",
        "        cost.append(curr_loss)\n"
      ],
      "metadata": {
        "id": "lZGQebJM8Ogh"
      },
      "execution_count": 96,
      "outputs": []
    },
    {
      "cell_type": "code",
      "source": [
        "model = LinearRegression1(num_features=X_train.size(1))\n",
        "cost = train1(model, X_train, y_train, num_epochs=100, learning_rate=0.05)"
      ],
      "metadata": {
        "colab": {
          "base_uri": "https://localhost:8080/"
        },
        "id": "tDW_XRlg8WRM",
        "outputId": "e8600a26-fb81-4580-c51a-7a9947216ec9"
      },
      "execution_count": 97,
      "outputs": [
        {
          "output_type": "stream",
          "name": "stdout",
          "text": [
            "Epoch: 001 | MSE: 1532.67603\n",
            "Epoch: 002 | MSE: 1312.39819\n",
            "Epoch: 003 | MSE: 1133.91809\n",
            "Epoch: 004 | MSE: 989.30280\n",
            "Epoch: 005 | MSE: 872.12598\n",
            "Epoch: 006 | MSE: 777.18109\n",
            "Epoch: 007 | MSE: 700.24921\n",
            "Epoch: 008 | MSE: 637.91260\n",
            "Epoch: 009 | MSE: 587.40173\n",
            "Epoch: 010 | MSE: 546.47296\n",
            "Epoch: 011 | MSE: 513.30817\n",
            "Epoch: 012 | MSE: 486.43439\n",
            "Epoch: 013 | MSE: 464.65808\n",
            "Epoch: 014 | MSE: 447.01227\n",
            "Epoch: 015 | MSE: 432.71332\n",
            "Epoch: 016 | MSE: 421.12634\n",
            "Epoch: 017 | MSE: 411.73697\n",
            "Epoch: 018 | MSE: 404.12830\n",
            "Epoch: 019 | MSE: 397.96255\n",
            "Epoch: 020 | MSE: 392.96606\n",
            "Epoch: 021 | MSE: 388.91705\n",
            "Epoch: 022 | MSE: 385.63583\n",
            "Epoch: 023 | MSE: 382.97687\n",
            "Epoch: 024 | MSE: 380.82202\n",
            "Epoch: 025 | MSE: 379.07571\n",
            "Epoch: 026 | MSE: 377.66052\n",
            "Epoch: 027 | MSE: 376.51367\n",
            "Epoch: 028 | MSE: 375.58429\n",
            "Epoch: 029 | MSE: 374.83102\n",
            "Epoch: 030 | MSE: 374.22055\n",
            "Epoch: 031 | MSE: 373.72586\n",
            "Epoch: 032 | MSE: 373.32492\n",
            "Epoch: 033 | MSE: 372.99997\n",
            "Epoch: 034 | MSE: 372.73660\n",
            "Epoch: 035 | MSE: 372.52316\n",
            "Epoch: 036 | MSE: 372.35019\n",
            "Epoch: 037 | MSE: 372.21002\n",
            "Epoch: 038 | MSE: 372.09637\n",
            "Epoch: 039 | MSE: 372.00433\n",
            "Epoch: 040 | MSE: 371.92963\n",
            "Epoch: 041 | MSE: 371.86914\n",
            "Epoch: 042 | MSE: 371.82010\n",
            "Epoch: 043 | MSE: 371.78036\n",
            "Epoch: 044 | MSE: 371.74817\n",
            "Epoch: 045 | MSE: 371.72205\n",
            "Epoch: 046 | MSE: 371.70084\n",
            "Epoch: 047 | MSE: 371.68372\n",
            "Epoch: 048 | MSE: 371.66983\n",
            "Epoch: 049 | MSE: 371.65854\n",
            "Epoch: 050 | MSE: 371.64948\n",
            "Epoch: 051 | MSE: 371.64203\n",
            "Epoch: 052 | MSE: 371.63605\n",
            "Epoch: 053 | MSE: 371.63116\n",
            "Epoch: 054 | MSE: 371.62723\n",
            "Epoch: 055 | MSE: 371.62405\n",
            "Epoch: 056 | MSE: 371.62140\n",
            "Epoch: 057 | MSE: 371.61932\n",
            "Epoch: 058 | MSE: 371.61765\n",
            "Epoch: 059 | MSE: 371.61624\n",
            "Epoch: 060 | MSE: 371.61514\n",
            "Epoch: 061 | MSE: 371.61423\n",
            "Epoch: 062 | MSE: 371.61349\n",
            "Epoch: 063 | MSE: 371.61292\n",
            "Epoch: 064 | MSE: 371.61240\n",
            "Epoch: 065 | MSE: 371.61200\n",
            "Epoch: 066 | MSE: 371.61169\n",
            "Epoch: 067 | MSE: 371.61145\n",
            "Epoch: 068 | MSE: 371.61124\n",
            "Epoch: 069 | MSE: 371.61105\n",
            "Epoch: 070 | MSE: 371.61093\n",
            "Epoch: 071 | MSE: 371.61084\n",
            "Epoch: 072 | MSE: 371.61075\n",
            "Epoch: 073 | MSE: 371.61066\n",
            "Epoch: 074 | MSE: 371.61060\n",
            "Epoch: 075 | MSE: 371.61053\n",
            "Epoch: 076 | MSE: 371.61050\n",
            "Epoch: 077 | MSE: 371.61050\n",
            "Epoch: 078 | MSE: 371.61044\n",
            "Epoch: 079 | MSE: 371.61044\n",
            "Epoch: 080 | MSE: 371.61041\n",
            "Epoch: 081 | MSE: 371.61044\n",
            "Epoch: 082 | MSE: 371.61041\n",
            "Epoch: 083 | MSE: 371.61038\n",
            "Epoch: 084 | MSE: 371.61041\n",
            "Epoch: 085 | MSE: 371.61035\n",
            "Epoch: 086 | MSE: 371.61038\n",
            "Epoch: 087 | MSE: 371.61038\n",
            "Epoch: 088 | MSE: 371.61035\n",
            "Epoch: 089 | MSE: 371.61035\n",
            "Epoch: 090 | MSE: 371.61035\n",
            "Epoch: 091 | MSE: 371.61035\n",
            "Epoch: 092 | MSE: 371.61035\n",
            "Epoch: 093 | MSE: 371.61035\n",
            "Epoch: 094 | MSE: 371.61038\n",
            "Epoch: 095 | MSE: 371.61032\n",
            "Epoch: 096 | MSE: 371.61032\n",
            "Epoch: 097 | MSE: 371.61032\n",
            "Epoch: 098 | MSE: 371.61035\n",
            "Epoch: 099 | MSE: 371.61032\n",
            "Epoch: 100 | MSE: 371.61035\n"
          ]
        }
      ]
    },
    {
      "cell_type": "code",
      "source": [
        "# plt.plot(range(len(cost)),cost)\n",
        "# plt.ylabel('MSE')\n",
        "# plt.xlabel('Epoch')\n",
        "# plt.show()"
      ],
      "metadata": {
        "id": "LOwdEYwL7U8a"
      },
      "execution_count": 98,
      "outputs": []
    },
    {
      "cell_type": "code",
      "source": [
        "train_pred = model.forward(X_train)\n",
        "test_pred = model.forward(X_test)\n",
        "print('Train MSE: %.5f' % loss(train_pred, y_train))\n",
        "print('Test MSE: %.5f' % loss(test_pred, y_test))"
      ],
      "metadata": {
        "colab": {
          "base_uri": "https://localhost:8080/"
        },
        "id": "Pd52Y13h7uTG",
        "outputId": "8d608a6b-183e-4844-a04e-64312cff92c9"
      },
      "execution_count": 99,
      "outputs": [
        {
          "output_type": "stream",
          "name": "stdout",
          "text": [
            "Train MSE: 371.61035\n",
            "Test MSE: 406.88412\n"
          ]
        }
      ]
    },
    {
      "cell_type": "markdown",
      "source": [
        "Adaline with mini batch"
      ],
      "metadata": {
        "id": "HJWot6Tz9B2y"
      }
    },
    {
      "cell_type": "code",
      "source": [
        "df = pd.read_csv('/content/iris.data', index_col=None, header=None)\n",
        "df.columns = ['x1', 'x2', 'x3', 'x4', 'y']\n",
        "df = df.iloc[50:150]\n",
        "df['y'] = df['y'].apply(lambda x: 0 if x == 'Iris-versicolor' else 1)\n",
        "df.tail()"
      ],
      "metadata": {
        "colab": {
          "base_uri": "https://localhost:8080/",
          "height": 206
        },
        "id": "Djj3blt771G9",
        "outputId": "466a43fd-7360-4019-ae0f-9da42f49109f"
      },
      "execution_count": 100,
      "outputs": [
        {
          "output_type": "execute_result",
          "data": {
            "text/plain": [
              "      x1   x2   x3   x4  y\n",
              "145  6.7  3.0  5.2  2.3  1\n",
              "146  6.3  2.5  5.0  1.9  1\n",
              "147  6.5  3.0  5.2  2.0  1\n",
              "148  6.2  3.4  5.4  2.3  1\n",
              "149  5.9  3.0  5.1  1.8  1"
            ],
            "text/html": [
              "\n",
              "  <div id=\"df-2b4a4949-1f3e-4b57-b1f1-76009b159a16\" class=\"colab-df-container\">\n",
              "    <div>\n",
              "<style scoped>\n",
              "    .dataframe tbody tr th:only-of-type {\n",
              "        vertical-align: middle;\n",
              "    }\n",
              "\n",
              "    .dataframe tbody tr th {\n",
              "        vertical-align: top;\n",
              "    }\n",
              "\n",
              "    .dataframe thead th {\n",
              "        text-align: right;\n",
              "    }\n",
              "</style>\n",
              "<table border=\"1\" class=\"dataframe\">\n",
              "  <thead>\n",
              "    <tr style=\"text-align: right;\">\n",
              "      <th></th>\n",
              "      <th>x1</th>\n",
              "      <th>x2</th>\n",
              "      <th>x3</th>\n",
              "      <th>x4</th>\n",
              "      <th>y</th>\n",
              "    </tr>\n",
              "  </thead>\n",
              "  <tbody>\n",
              "    <tr>\n",
              "      <th>145</th>\n",
              "      <td>6.7</td>\n",
              "      <td>3.0</td>\n",
              "      <td>5.2</td>\n",
              "      <td>2.3</td>\n",
              "      <td>1</td>\n",
              "    </tr>\n",
              "    <tr>\n",
              "      <th>146</th>\n",
              "      <td>6.3</td>\n",
              "      <td>2.5</td>\n",
              "      <td>5.0</td>\n",
              "      <td>1.9</td>\n",
              "      <td>1</td>\n",
              "    </tr>\n",
              "    <tr>\n",
              "      <th>147</th>\n",
              "      <td>6.5</td>\n",
              "      <td>3.0</td>\n",
              "      <td>5.2</td>\n",
              "      <td>2.0</td>\n",
              "      <td>1</td>\n",
              "    </tr>\n",
              "    <tr>\n",
              "      <th>148</th>\n",
              "      <td>6.2</td>\n",
              "      <td>3.4</td>\n",
              "      <td>5.4</td>\n",
              "      <td>2.3</td>\n",
              "      <td>1</td>\n",
              "    </tr>\n",
              "    <tr>\n",
              "      <th>149</th>\n",
              "      <td>5.9</td>\n",
              "      <td>3.0</td>\n",
              "      <td>5.1</td>\n",
              "      <td>1.8</td>\n",
              "      <td>1</td>\n",
              "    </tr>\n",
              "  </tbody>\n",
              "</table>\n",
              "</div>\n",
              "    <div class=\"colab-df-buttons\">\n",
              "\n",
              "  <div class=\"colab-df-container\">\n",
              "    <button class=\"colab-df-convert\" onclick=\"convertToInteractive('df-2b4a4949-1f3e-4b57-b1f1-76009b159a16')\"\n",
              "            title=\"Convert this dataframe to an interactive table.\"\n",
              "            style=\"display:none;\">\n",
              "\n",
              "  <svg xmlns=\"http://www.w3.org/2000/svg\" height=\"24px\" viewBox=\"0 -960 960 960\">\n",
              "    <path d=\"M120-120v-720h720v720H120Zm60-500h600v-160H180v160Zm220 220h160v-160H400v160Zm0 220h160v-160H400v160ZM180-400h160v-160H180v160Zm440 0h160v-160H620v160ZM180-180h160v-160H180v160Zm440 0h160v-160H620v160Z\"/>\n",
              "  </svg>\n",
              "    </button>\n",
              "\n",
              "  <style>\n",
              "    .colab-df-container {\n",
              "      display:flex;\n",
              "      gap: 12px;\n",
              "    }\n",
              "\n",
              "    .colab-df-convert {\n",
              "      background-color: #E8F0FE;\n",
              "      border: none;\n",
              "      border-radius: 50%;\n",
              "      cursor: pointer;\n",
              "      display: none;\n",
              "      fill: #1967D2;\n",
              "      height: 32px;\n",
              "      padding: 0 0 0 0;\n",
              "      width: 32px;\n",
              "    }\n",
              "\n",
              "    .colab-df-convert:hover {\n",
              "      background-color: #E2EBFA;\n",
              "      box-shadow: 0px 1px 2px rgba(60, 64, 67, 0.3), 0px 1px 3px 1px rgba(60, 64, 67, 0.15);\n",
              "      fill: #174EA6;\n",
              "    }\n",
              "\n",
              "    .colab-df-buttons div {\n",
              "      margin-bottom: 4px;\n",
              "    }\n",
              "\n",
              "    [theme=dark] .colab-df-convert {\n",
              "      background-color: #3B4455;\n",
              "      fill: #D2E3FC;\n",
              "    }\n",
              "\n",
              "    [theme=dark] .colab-df-convert:hover {\n",
              "      background-color: #434B5C;\n",
              "      box-shadow: 0px 1px 3px 1px rgba(0, 0, 0, 0.15);\n",
              "      filter: drop-shadow(0px 1px 2px rgba(0, 0, 0, 0.3));\n",
              "      fill: #FFFFFF;\n",
              "    }\n",
              "  </style>\n",
              "\n",
              "    <script>\n",
              "      const buttonEl =\n",
              "        document.querySelector('#df-2b4a4949-1f3e-4b57-b1f1-76009b159a16 button.colab-df-convert');\n",
              "      buttonEl.style.display =\n",
              "        google.colab.kernel.accessAllowed ? 'block' : 'none';\n",
              "\n",
              "      async function convertToInteractive(key) {\n",
              "        const element = document.querySelector('#df-2b4a4949-1f3e-4b57-b1f1-76009b159a16');\n",
              "        const dataTable =\n",
              "          await google.colab.kernel.invokeFunction('convertToInteractive',\n",
              "                                                    [key], {});\n",
              "        if (!dataTable) return;\n",
              "\n",
              "        const docLinkHtml = 'Like what you see? Visit the ' +\n",
              "          '<a target=\"_blank\" href=https://colab.research.google.com/notebooks/data_table.ipynb>data table notebook</a>'\n",
              "          + ' to learn more about interactive tables.';\n",
              "        element.innerHTML = '';\n",
              "        dataTable['output_type'] = 'display_data';\n",
              "        await google.colab.output.renderOutput(dataTable, element);\n",
              "        const docLink = document.createElement('div');\n",
              "        docLink.innerHTML = docLinkHtml;\n",
              "        element.appendChild(docLink);\n",
              "      }\n",
              "    </script>\n",
              "  </div>\n",
              "\n",
              "\n",
              "    <div id=\"df-90763d08-0799-4818-a4f6-feb03708082d\">\n",
              "      <button class=\"colab-df-quickchart\" onclick=\"quickchart('df-90763d08-0799-4818-a4f6-feb03708082d')\"\n",
              "                title=\"Suggest charts\"\n",
              "                style=\"display:none;\">\n",
              "\n",
              "<svg xmlns=\"http://www.w3.org/2000/svg\" height=\"24px\"viewBox=\"0 0 24 24\"\n",
              "     width=\"24px\">\n",
              "    <g>\n",
              "        <path d=\"M19 3H5c-1.1 0-2 .9-2 2v14c0 1.1.9 2 2 2h14c1.1 0 2-.9 2-2V5c0-1.1-.9-2-2-2zM9 17H7v-7h2v7zm4 0h-2V7h2v10zm4 0h-2v-4h2v4z\"/>\n",
              "    </g>\n",
              "</svg>\n",
              "      </button>\n",
              "\n",
              "<style>\n",
              "  .colab-df-quickchart {\n",
              "      --bg-color: #E8F0FE;\n",
              "      --fill-color: #1967D2;\n",
              "      --hover-bg-color: #E2EBFA;\n",
              "      --hover-fill-color: #174EA6;\n",
              "      --disabled-fill-color: #AAA;\n",
              "      --disabled-bg-color: #DDD;\n",
              "  }\n",
              "\n",
              "  [theme=dark] .colab-df-quickchart {\n",
              "      --bg-color: #3B4455;\n",
              "      --fill-color: #D2E3FC;\n",
              "      --hover-bg-color: #434B5C;\n",
              "      --hover-fill-color: #FFFFFF;\n",
              "      --disabled-bg-color: #3B4455;\n",
              "      --disabled-fill-color: #666;\n",
              "  }\n",
              "\n",
              "  .colab-df-quickchart {\n",
              "    background-color: var(--bg-color);\n",
              "    border: none;\n",
              "    border-radius: 50%;\n",
              "    cursor: pointer;\n",
              "    display: none;\n",
              "    fill: var(--fill-color);\n",
              "    height: 32px;\n",
              "    padding: 0;\n",
              "    width: 32px;\n",
              "  }\n",
              "\n",
              "  .colab-df-quickchart:hover {\n",
              "    background-color: var(--hover-bg-color);\n",
              "    box-shadow: 0 1px 2px rgba(60, 64, 67, 0.3), 0 1px 3px 1px rgba(60, 64, 67, 0.15);\n",
              "    fill: var(--button-hover-fill-color);\n",
              "  }\n",
              "\n",
              "  .colab-df-quickchart-complete:disabled,\n",
              "  .colab-df-quickchart-complete:disabled:hover {\n",
              "    background-color: var(--disabled-bg-color);\n",
              "    fill: var(--disabled-fill-color);\n",
              "    box-shadow: none;\n",
              "  }\n",
              "\n",
              "  .colab-df-spinner {\n",
              "    border: 2px solid var(--fill-color);\n",
              "    border-color: transparent;\n",
              "    border-bottom-color: var(--fill-color);\n",
              "    animation:\n",
              "      spin 1s steps(1) infinite;\n",
              "  }\n",
              "\n",
              "  @keyframes spin {\n",
              "    0% {\n",
              "      border-color: transparent;\n",
              "      border-bottom-color: var(--fill-color);\n",
              "      border-left-color: var(--fill-color);\n",
              "    }\n",
              "    20% {\n",
              "      border-color: transparent;\n",
              "      border-left-color: var(--fill-color);\n",
              "      border-top-color: var(--fill-color);\n",
              "    }\n",
              "    30% {\n",
              "      border-color: transparent;\n",
              "      border-left-color: var(--fill-color);\n",
              "      border-top-color: var(--fill-color);\n",
              "      border-right-color: var(--fill-color);\n",
              "    }\n",
              "    40% {\n",
              "      border-color: transparent;\n",
              "      border-right-color: var(--fill-color);\n",
              "      border-top-color: var(--fill-color);\n",
              "    }\n",
              "    60% {\n",
              "      border-color: transparent;\n",
              "      border-right-color: var(--fill-color);\n",
              "    }\n",
              "    80% {\n",
              "      border-color: transparent;\n",
              "      border-right-color: var(--fill-color);\n",
              "      border-bottom-color: var(--fill-color);\n",
              "    }\n",
              "    90% {\n",
              "      border-color: transparent;\n",
              "      border-bottom-color: var(--fill-color);\n",
              "    }\n",
              "  }\n",
              "</style>\n",
              "\n",
              "      <script>\n",
              "        async function quickchart(key) {\n",
              "          const quickchartButtonEl =\n",
              "            document.querySelector('#' + key + ' button');\n",
              "          quickchartButtonEl.disabled = true;  // To prevent multiple clicks.\n",
              "          quickchartButtonEl.classList.add('colab-df-spinner');\n",
              "          try {\n",
              "            const charts = await google.colab.kernel.invokeFunction(\n",
              "                'suggestCharts', [key], {});\n",
              "          } catch (error) {\n",
              "            console.error('Error during call to suggestCharts:', error);\n",
              "          }\n",
              "          quickchartButtonEl.classList.remove('colab-df-spinner');\n",
              "          quickchartButtonEl.classList.add('colab-df-quickchart-complete');\n",
              "        }\n",
              "        (() => {\n",
              "          let quickchartButtonEl =\n",
              "            document.querySelector('#df-90763d08-0799-4818-a4f6-feb03708082d button');\n",
              "          quickchartButtonEl.style.display =\n",
              "            google.colab.kernel.accessAllowed ? 'block' : 'none';\n",
              "        })();\n",
              "      </script>\n",
              "    </div>\n",
              "\n",
              "    </div>\n",
              "  </div>\n"
            ],
            "application/vnd.google.colaboratory.intrinsic+json": {
              "type": "dataframe",
              "summary": "{\n  \"name\": \"df\",\n  \"rows\": 5,\n  \"fields\": [\n    {\n      \"column\": \"x1\",\n      \"properties\": {\n        \"dtype\": \"number\",\n        \"std\": 0.30331501776206193,\n        \"min\": 5.9,\n        \"max\": 6.7,\n        \"num_unique_values\": 5,\n        \"samples\": [\n          6.3,\n          5.9,\n          6.5\n        ],\n        \"semantic_type\": \"\",\n        \"description\": \"\"\n      }\n    },\n    {\n      \"column\": \"x2\",\n      \"properties\": {\n        \"dtype\": \"number\",\n        \"std\": 0.31937438845342625,\n        \"min\": 2.5,\n        \"max\": 3.4,\n        \"num_unique_values\": 3,\n        \"samples\": [\n          3.0,\n          2.5,\n          3.4\n        ],\n        \"semantic_type\": \"\",\n        \"description\": \"\"\n      }\n    },\n    {\n      \"column\": \"x3\",\n      \"properties\": {\n        \"dtype\": \"number\",\n        \"std\": 0.14832396974191348,\n        \"min\": 5.0,\n        \"max\": 5.4,\n        \"num_unique_values\": 4,\n        \"samples\": [\n          5.0,\n          5.1,\n          5.2\n        ],\n        \"semantic_type\": \"\",\n        \"description\": \"\"\n      }\n    },\n    {\n      \"column\": \"x4\",\n      \"properties\": {\n        \"dtype\": \"number\",\n        \"std\": 0.23021728866442667,\n        \"min\": 1.8,\n        \"max\": 2.3,\n        \"num_unique_values\": 4,\n        \"samples\": [\n          1.9,\n          1.8,\n          2.3\n        ],\n        \"semantic_type\": \"\",\n        \"description\": \"\"\n      }\n    },\n    {\n      \"column\": \"y\",\n      \"properties\": {\n        \"dtype\": \"number\",\n        \"std\": 0,\n        \"min\": 1,\n        \"max\": 1,\n        \"num_unique_values\": 1,\n        \"samples\": [\n          1\n        ],\n        \"semantic_type\": \"\",\n        \"description\": \"\"\n      }\n    }\n  ]\n}"
            }
          },
          "metadata": {},
          "execution_count": 100
        }
      ]
    },
    {
      "cell_type": "code",
      "source": [
        "df.head()"
      ],
      "metadata": {
        "colab": {
          "base_uri": "https://localhost:8080/",
          "height": 206
        },
        "id": "I7qtcZ5B9u6Z",
        "outputId": "ffa8f442-f909-4afe-9d3a-3023233e3b07"
      },
      "execution_count": 101,
      "outputs": [
        {
          "output_type": "execute_result",
          "data": {
            "text/plain": [
              "     x1   x2   x3   x4  y\n",
              "50  7.0  3.2  4.7  1.4  0\n",
              "51  6.4  3.2  4.5  1.5  0\n",
              "52  6.9  3.1  4.9  1.5  0\n",
              "53  5.5  2.3  4.0  1.3  0\n",
              "54  6.5  2.8  4.6  1.5  0"
            ],
            "text/html": [
              "\n",
              "  <div id=\"df-adc949dc-ef76-4a07-adab-c33f76bd85c6\" class=\"colab-df-container\">\n",
              "    <div>\n",
              "<style scoped>\n",
              "    .dataframe tbody tr th:only-of-type {\n",
              "        vertical-align: middle;\n",
              "    }\n",
              "\n",
              "    .dataframe tbody tr th {\n",
              "        vertical-align: top;\n",
              "    }\n",
              "\n",
              "    .dataframe thead th {\n",
              "        text-align: right;\n",
              "    }\n",
              "</style>\n",
              "<table border=\"1\" class=\"dataframe\">\n",
              "  <thead>\n",
              "    <tr style=\"text-align: right;\">\n",
              "      <th></th>\n",
              "      <th>x1</th>\n",
              "      <th>x2</th>\n",
              "      <th>x3</th>\n",
              "      <th>x4</th>\n",
              "      <th>y</th>\n",
              "    </tr>\n",
              "  </thead>\n",
              "  <tbody>\n",
              "    <tr>\n",
              "      <th>50</th>\n",
              "      <td>7.0</td>\n",
              "      <td>3.2</td>\n",
              "      <td>4.7</td>\n",
              "      <td>1.4</td>\n",
              "      <td>0</td>\n",
              "    </tr>\n",
              "    <tr>\n",
              "      <th>51</th>\n",
              "      <td>6.4</td>\n",
              "      <td>3.2</td>\n",
              "      <td>4.5</td>\n",
              "      <td>1.5</td>\n",
              "      <td>0</td>\n",
              "    </tr>\n",
              "    <tr>\n",
              "      <th>52</th>\n",
              "      <td>6.9</td>\n",
              "      <td>3.1</td>\n",
              "      <td>4.9</td>\n",
              "      <td>1.5</td>\n",
              "      <td>0</td>\n",
              "    </tr>\n",
              "    <tr>\n",
              "      <th>53</th>\n",
              "      <td>5.5</td>\n",
              "      <td>2.3</td>\n",
              "      <td>4.0</td>\n",
              "      <td>1.3</td>\n",
              "      <td>0</td>\n",
              "    </tr>\n",
              "    <tr>\n",
              "      <th>54</th>\n",
              "      <td>6.5</td>\n",
              "      <td>2.8</td>\n",
              "      <td>4.6</td>\n",
              "      <td>1.5</td>\n",
              "      <td>0</td>\n",
              "    </tr>\n",
              "  </tbody>\n",
              "</table>\n",
              "</div>\n",
              "    <div class=\"colab-df-buttons\">\n",
              "\n",
              "  <div class=\"colab-df-container\">\n",
              "    <button class=\"colab-df-convert\" onclick=\"convertToInteractive('df-adc949dc-ef76-4a07-adab-c33f76bd85c6')\"\n",
              "            title=\"Convert this dataframe to an interactive table.\"\n",
              "            style=\"display:none;\">\n",
              "\n",
              "  <svg xmlns=\"http://www.w3.org/2000/svg\" height=\"24px\" viewBox=\"0 -960 960 960\">\n",
              "    <path d=\"M120-120v-720h720v720H120Zm60-500h600v-160H180v160Zm220 220h160v-160H400v160Zm0 220h160v-160H400v160ZM180-400h160v-160H180v160Zm440 0h160v-160H620v160ZM180-180h160v-160H180v160Zm440 0h160v-160H620v160Z\"/>\n",
              "  </svg>\n",
              "    </button>\n",
              "\n",
              "  <style>\n",
              "    .colab-df-container {\n",
              "      display:flex;\n",
              "      gap: 12px;\n",
              "    }\n",
              "\n",
              "    .colab-df-convert {\n",
              "      background-color: #E8F0FE;\n",
              "      border: none;\n",
              "      border-radius: 50%;\n",
              "      cursor: pointer;\n",
              "      display: none;\n",
              "      fill: #1967D2;\n",
              "      height: 32px;\n",
              "      padding: 0 0 0 0;\n",
              "      width: 32px;\n",
              "    }\n",
              "\n",
              "    .colab-df-convert:hover {\n",
              "      background-color: #E2EBFA;\n",
              "      box-shadow: 0px 1px 2px rgba(60, 64, 67, 0.3), 0px 1px 3px 1px rgba(60, 64, 67, 0.15);\n",
              "      fill: #174EA6;\n",
              "    }\n",
              "\n",
              "    .colab-df-buttons div {\n",
              "      margin-bottom: 4px;\n",
              "    }\n",
              "\n",
              "    [theme=dark] .colab-df-convert {\n",
              "      background-color: #3B4455;\n",
              "      fill: #D2E3FC;\n",
              "    }\n",
              "\n",
              "    [theme=dark] .colab-df-convert:hover {\n",
              "      background-color: #434B5C;\n",
              "      box-shadow: 0px 1px 3px 1px rgba(0, 0, 0, 0.15);\n",
              "      filter: drop-shadow(0px 1px 2px rgba(0, 0, 0, 0.3));\n",
              "      fill: #FFFFFF;\n",
              "    }\n",
              "  </style>\n",
              "\n",
              "    <script>\n",
              "      const buttonEl =\n",
              "        document.querySelector('#df-adc949dc-ef76-4a07-adab-c33f76bd85c6 button.colab-df-convert');\n",
              "      buttonEl.style.display =\n",
              "        google.colab.kernel.accessAllowed ? 'block' : 'none';\n",
              "\n",
              "      async function convertToInteractive(key) {\n",
              "        const element = document.querySelector('#df-adc949dc-ef76-4a07-adab-c33f76bd85c6');\n",
              "        const dataTable =\n",
              "          await google.colab.kernel.invokeFunction('convertToInteractive',\n",
              "                                                    [key], {});\n",
              "        if (!dataTable) return;\n",
              "\n",
              "        const docLinkHtml = 'Like what you see? Visit the ' +\n",
              "          '<a target=\"_blank\" href=https://colab.research.google.com/notebooks/data_table.ipynb>data table notebook</a>'\n",
              "          + ' to learn more about interactive tables.';\n",
              "        element.innerHTML = '';\n",
              "        dataTable['output_type'] = 'display_data';\n",
              "        await google.colab.output.renderOutput(dataTable, element);\n",
              "        const docLink = document.createElement('div');\n",
              "        docLink.innerHTML = docLinkHtml;\n",
              "        element.appendChild(docLink);\n",
              "      }\n",
              "    </script>\n",
              "  </div>\n",
              "\n",
              "\n",
              "    <div id=\"df-10372cdd-c64e-4a6d-a6fa-3e5c974537fc\">\n",
              "      <button class=\"colab-df-quickchart\" onclick=\"quickchart('df-10372cdd-c64e-4a6d-a6fa-3e5c974537fc')\"\n",
              "                title=\"Suggest charts\"\n",
              "                style=\"display:none;\">\n",
              "\n",
              "<svg xmlns=\"http://www.w3.org/2000/svg\" height=\"24px\"viewBox=\"0 0 24 24\"\n",
              "     width=\"24px\">\n",
              "    <g>\n",
              "        <path d=\"M19 3H5c-1.1 0-2 .9-2 2v14c0 1.1.9 2 2 2h14c1.1 0 2-.9 2-2V5c0-1.1-.9-2-2-2zM9 17H7v-7h2v7zm4 0h-2V7h2v10zm4 0h-2v-4h2v4z\"/>\n",
              "    </g>\n",
              "</svg>\n",
              "      </button>\n",
              "\n",
              "<style>\n",
              "  .colab-df-quickchart {\n",
              "      --bg-color: #E8F0FE;\n",
              "      --fill-color: #1967D2;\n",
              "      --hover-bg-color: #E2EBFA;\n",
              "      --hover-fill-color: #174EA6;\n",
              "      --disabled-fill-color: #AAA;\n",
              "      --disabled-bg-color: #DDD;\n",
              "  }\n",
              "\n",
              "  [theme=dark] .colab-df-quickchart {\n",
              "      --bg-color: #3B4455;\n",
              "      --fill-color: #D2E3FC;\n",
              "      --hover-bg-color: #434B5C;\n",
              "      --hover-fill-color: #FFFFFF;\n",
              "      --disabled-bg-color: #3B4455;\n",
              "      --disabled-fill-color: #666;\n",
              "  }\n",
              "\n",
              "  .colab-df-quickchart {\n",
              "    background-color: var(--bg-color);\n",
              "    border: none;\n",
              "    border-radius: 50%;\n",
              "    cursor: pointer;\n",
              "    display: none;\n",
              "    fill: var(--fill-color);\n",
              "    height: 32px;\n",
              "    padding: 0;\n",
              "    width: 32px;\n",
              "  }\n",
              "\n",
              "  .colab-df-quickchart:hover {\n",
              "    background-color: var(--hover-bg-color);\n",
              "    box-shadow: 0 1px 2px rgba(60, 64, 67, 0.3), 0 1px 3px 1px rgba(60, 64, 67, 0.15);\n",
              "    fill: var(--button-hover-fill-color);\n",
              "  }\n",
              "\n",
              "  .colab-df-quickchart-complete:disabled,\n",
              "  .colab-df-quickchart-complete:disabled:hover {\n",
              "    background-color: var(--disabled-bg-color);\n",
              "    fill: var(--disabled-fill-color);\n",
              "    box-shadow: none;\n",
              "  }\n",
              "\n",
              "  .colab-df-spinner {\n",
              "    border: 2px solid var(--fill-color);\n",
              "    border-color: transparent;\n",
              "    border-bottom-color: var(--fill-color);\n",
              "    animation:\n",
              "      spin 1s steps(1) infinite;\n",
              "  }\n",
              "\n",
              "  @keyframes spin {\n",
              "    0% {\n",
              "      border-color: transparent;\n",
              "      border-bottom-color: var(--fill-color);\n",
              "      border-left-color: var(--fill-color);\n",
              "    }\n",
              "    20% {\n",
              "      border-color: transparent;\n",
              "      border-left-color: var(--fill-color);\n",
              "      border-top-color: var(--fill-color);\n",
              "    }\n",
              "    30% {\n",
              "      border-color: transparent;\n",
              "      border-left-color: var(--fill-color);\n",
              "      border-top-color: var(--fill-color);\n",
              "      border-right-color: var(--fill-color);\n",
              "    }\n",
              "    40% {\n",
              "      border-color: transparent;\n",
              "      border-right-color: var(--fill-color);\n",
              "      border-top-color: var(--fill-color);\n",
              "    }\n",
              "    60% {\n",
              "      border-color: transparent;\n",
              "      border-right-color: var(--fill-color);\n",
              "    }\n",
              "    80% {\n",
              "      border-color: transparent;\n",
              "      border-right-color: var(--fill-color);\n",
              "      border-bottom-color: var(--fill-color);\n",
              "    }\n",
              "    90% {\n",
              "      border-color: transparent;\n",
              "      border-bottom-color: var(--fill-color);\n",
              "    }\n",
              "  }\n",
              "</style>\n",
              "\n",
              "      <script>\n",
              "        async function quickchart(key) {\n",
              "          const quickchartButtonEl =\n",
              "            document.querySelector('#' + key + ' button');\n",
              "          quickchartButtonEl.disabled = true;  // To prevent multiple clicks.\n",
              "          quickchartButtonEl.classList.add('colab-df-spinner');\n",
              "          try {\n",
              "            const charts = await google.colab.kernel.invokeFunction(\n",
              "                'suggestCharts', [key], {});\n",
              "          } catch (error) {\n",
              "            console.error('Error during call to suggestCharts:', error);\n",
              "          }\n",
              "          quickchartButtonEl.classList.remove('colab-df-spinner');\n",
              "          quickchartButtonEl.classList.add('colab-df-quickchart-complete');\n",
              "        }\n",
              "        (() => {\n",
              "          let quickchartButtonEl =\n",
              "            document.querySelector('#df-10372cdd-c64e-4a6d-a6fa-3e5c974537fc button');\n",
              "          quickchartButtonEl.style.display =\n",
              "            google.colab.kernel.accessAllowed ? 'block' : 'none';\n",
              "        })();\n",
              "      </script>\n",
              "    </div>\n",
              "\n",
              "    </div>\n",
              "  </div>\n"
            ],
            "application/vnd.google.colaboratory.intrinsic+json": {
              "type": "dataframe",
              "variable_name": "df",
              "summary": "{\n  \"name\": \"df\",\n  \"rows\": 100,\n  \"fields\": [\n    {\n      \"column\": \"x1\",\n      \"properties\": {\n        \"dtype\": \"number\",\n        \"std\": 0.6628344400749671,\n        \"min\": 4.9,\n        \"max\": 7.9,\n        \"num_unique_values\": 28,\n        \"samples\": [\n          5.2,\n          7.7,\n          6.6\n        ],\n        \"semantic_type\": \"\",\n        \"description\": \"\"\n      }\n    },\n    {\n      \"column\": \"x2\",\n      \"properties\": {\n        \"dtype\": \"number\",\n        \"std\": 0.33275100649469463,\n        \"min\": 2.0,\n        \"max\": 3.8,\n        \"num_unique_values\": 16,\n        \"samples\": [\n          3.2,\n          3.1,\n          2.4\n        ],\n        \"semantic_type\": \"\",\n        \"description\": \"\"\n      }\n    },\n    {\n      \"column\": \"x3\",\n      \"properties\": {\n        \"dtype\": \"number\",\n        \"std\": 0.8255784626428904,\n        \"min\": 3.0,\n        \"max\": 6.9,\n        \"num_unique_values\": 34,\n        \"samples\": [\n          3.8,\n          6.0,\n          5.5\n        ],\n        \"semantic_type\": \"\",\n        \"description\": \"\"\n      }\n    },\n    {\n      \"column\": \"x4\",\n      \"properties\": {\n        \"dtype\": \"number\",\n        \"std\": 0.42476850498628405,\n        \"min\": 1.0,\n        \"max\": 2.5,\n        \"num_unique_values\": 16,\n        \"samples\": [\n          1.4,\n          1.5,\n          1.1\n        ],\n        \"semantic_type\": \"\",\n        \"description\": \"\"\n      }\n    },\n    {\n      \"column\": \"y\",\n      \"properties\": {\n        \"dtype\": \"number\",\n        \"std\": 0,\n        \"min\": 0,\n        \"max\": 1,\n        \"num_unique_values\": 2,\n        \"samples\": [\n          1,\n          0\n        ],\n        \"semantic_type\": \"\",\n        \"description\": \"\"\n      }\n    }\n  ]\n}"
            }
          },
          "metadata": {},
          "execution_count": 101
        }
      ]
    },
    {
      "cell_type": "code",
      "source": [
        "X = torch.tensor(df[['x2', 'x3']].values, dtype=torch.float)\n",
        "y = torch.tensor(df['y'].values, dtype=torch.int)\n",
        "\n",
        "# Shuffling & train/test split\n",
        "\n",
        "torch.manual_seed(123)\n",
        "shuffle_idx = torch.randperm(y.size(0), dtype=torch.long)\n",
        "\n",
        "X, y = X[shuffle_idx], y[shuffle_idx]\n",
        "\n",
        "percent70 = int(shuffle_idx.size(0)*0.7)\n",
        "\n",
        "X_train, X_test = X[shuffle_idx[:percent70]], X[shuffle_idx[percent70:]]\n",
        "y_train, y_test = y[shuffle_idx[:percent70]], y[shuffle_idx[percent70:]]\n",
        "\n",
        "# Normalize (mean zero, unit variance)\n",
        "\n",
        "mu, sigma = X_train.mean(dim=0), X_train.std(dim=0)\n",
        "X_train = (X_train - mu) / sigma\n",
        "X_test = (X_test - mu) / sigma"
      ],
      "metadata": {
        "id": "InABrZbC9BFN"
      },
      "execution_count": 102,
      "outputs": []
    },
    {
      "cell_type": "code",
      "source": [
        "plt.scatter(X_train[y_train == 0, 0], X_train[y_train == 0, 1], label='class 0')\n",
        "plt.scatter(X_train[y_train == 1, 0], X_train[y_train == 1, 1], label='class 1')\n",
        "plt.legend()\n",
        "plt.show()"
      ],
      "metadata": {
        "colab": {
          "base_uri": "https://localhost:8080/",
          "height": 430
        },
        "id": "Y8ievb6p9N5M",
        "outputId": "62c2e683-3854-43f8-996d-43bd954c6c4d"
      },
      "execution_count": 103,
      "outputs": [
        {
          "output_type": "display_data",
          "data": {
            "text/plain": [
              "<Figure size 640x480 with 1 Axes>"
            ],
            "image/png": "[encoded data removed]"
          },
          "metadata": {}
        }
      ]
    },
    {
      "cell_type": "code",
      "source": [
        "plt.scatter(X_test[y_test == 0, 0], X_test[y_test == 0, 1], label='class 0')\n",
        "plt.scatter(X_test[y_test == 1, 0], X_test[y_test == 1, 1], label='class 1')\n",
        "plt.legend()\n",
        "plt.show()"
      ],
      "metadata": {
        "colab": {
          "base_uri": "https://localhost:8080/",
          "height": 430
        },
        "id": "oxfb3dUX9PMb",
        "outputId": "65cfef79-1d46-4d42-d5d8-287585e24a65"
      },
      "execution_count": 104,
      "outputs": [
        {
          "output_type": "display_data",
          "data": {
            "text/plain": [
              "<Figure size 640x480 with 1 Axes>"
            ],
            "image/png": "[encoded data removed]"
          },
          "metadata": {}
        }
      ]
    },
    {
      "cell_type": "code",
      "source": [
        "class Adaline1():\n",
        "    def __init__(self, num_features):\n",
        "        self.num_features = num_features\n",
        "        self.weights = torch.zeros(num_features, 1,\n",
        "                                   dtype=torch.float)\n",
        "        self.bias = torch.zeros(1, dtype=torch.float)\n",
        "\n",
        "    def forward(self, x):\n",
        "        netinputs = torch.add(torch.mm(x, self.weights), self.bias)\n",
        "        activations = netinputs\n",
        "        return activations.view(-1)\n",
        "\n",
        "    def backward(self, x, yhat, y):\n",
        "        grad_loss_yhat = 2*(yhat - y)\n",
        "        grad_yhat_weights = x\n",
        "        grad_yhat_bias = 1.\n",
        "        grad_loss_weights = torch.mm(grad_yhat_weights.t(),grad_loss_yhat.view(-1, 1)) / y.size(0)\n",
        "        grad_loss_bias = torch.sum(grad_yhat_bias*grad_loss_yhat) / y.size(0)\n",
        "        return (-1)*grad_loss_weights, (-1)*grad_loss_bias"
      ],
      "metadata": {
        "id": "agQJiwUq9R2p"
      },
      "execution_count": 105,
      "outputs": []
    },
    {
      "cell_type": "code",
      "source": [
        "\n",
        "def loss(yhat, y):\n",
        "    return torch.mean((yhat - y)**2)\n",
        "\n",
        "\n",
        "def train(model, x, y, num_epochs,\n",
        "          learning_rate=0.01, seed=123, minibatch_size=10):\n",
        "    cost = []\n",
        "\n",
        "    torch.manual_seed(seed)\n",
        "    for e in range(num_epochs):\n",
        "\n",
        "        #### Shuffle epoch\n",
        "        shuffle_idx = torch.randperm(y.size(0), dtype=torch.long)\n",
        "        minibatches = torch.split(shuffle_idx, minibatch_size)\n",
        "\n",
        "        for minibatch_idx in minibatches:\n",
        "\n",
        "            #### Compute outputs ####\n",
        "            yhat = model.forward(x[minibatch_idx])\n",
        "\n",
        "            #### Compute gradients ####\n",
        "            negative_grad_w, negative_grad_b = \\\n",
        "                model.backward(x[minibatch_idx], yhat, y[minibatch_idx])\n",
        "\n",
        "            #### Update weights ####\n",
        "            model.weights += learning_rate * negative_grad_w\n",
        "            model.bias += learning_rate * negative_grad_b\n",
        "\n",
        "            #### Logging ####\n",
        "            minibatch_loss = loss(yhat, y[minibatch_idx])\n",
        "            print('    Minibatch MSE: %.3f' % minibatch_loss)\n",
        "\n",
        "        #### Logging ####\n",
        "        yhat = model.forward(x)\n",
        "        curr_loss = loss(yhat, y)\n",
        "        print('Epoch: %03d' % (e+1), end=\"\")\n",
        "        print(' | MSE: %.5f' % curr_loss)\n",
        "        cost.append(curr_loss)\n",
        "\n",
        "    return cost"
      ],
      "metadata": {
        "id": "4rxrzwHv9WUj"
      },
      "execution_count": 106,
      "outputs": []
    },
    {
      "cell_type": "code",
      "source": [
        "model = Adaline1(num_features=X_train.size(1))\n",
        "cost = train(model,\n",
        "             X_train, y_train.float(),\n",
        "             num_epochs=20,\n",
        "             learning_rate=0.1,\n",
        "             seed=123,\n",
        "             minibatch_size=10)"
      ],
      "metadata": {
        "colab": {
          "base_uri": "https://localhost:8080/"
        },
        "id": "q7Zfk1vH9YRw",
        "outputId": "e4e24226-384b-41f7-9d4f-be3de4500852"
      },
      "execution_count": 107,
      "outputs": [
        {
          "output_type": "stream",
          "name": "stdout",
          "text": [
            "    Minibatch MSE: 0.500\n",
            "    Minibatch MSE: 0.341\n",
            "    Minibatch MSE: 0.220\n",
            "    Minibatch MSE: 0.245\n",
            "    Minibatch MSE: 0.157\n",
            "    Minibatch MSE: 0.133\n",
            "    Minibatch MSE: 0.144\n",
            "Epoch: 001 | MSE: 0.12142\n",
            "    Minibatch MSE: 0.107\n",
            "    Minibatch MSE: 0.147\n",
            "    Minibatch MSE: 0.064\n",
            "    Minibatch MSE: 0.079\n",
            "    Minibatch MSE: 0.185\n",
            "    Minibatch MSE: 0.063\n",
            "    Minibatch MSE: 0.135\n",
            "Epoch: 002 | MSE: 0.09932\n",
            "    Minibatch MSE: 0.093\n",
            "    Minibatch MSE: 0.064\n",
            "    Minibatch MSE: 0.128\n",
            "    Minibatch MSE: 0.099\n",
            "    Minibatch MSE: 0.079\n",
            "    Minibatch MSE: 0.157\n",
            "    Minibatch MSE: 0.080\n",
            "Epoch: 003 | MSE: 0.09693\n",
            "    Minibatch MSE: 0.131\n",
            "    Minibatch MSE: 0.146\n",
            "    Minibatch MSE: 0.050\n",
            "    Minibatch MSE: 0.095\n",
            "    Minibatch MSE: 0.106\n",
            "    Minibatch MSE: 0.072\n",
            "    Minibatch MSE: 0.102\n",
            "Epoch: 004 | MSE: 0.09658\n",
            "    Minibatch MSE: 0.107\n",
            "    Minibatch MSE: 0.204\n",
            "    Minibatch MSE: 0.149\n",
            "    Minibatch MSE: 0.054\n",
            "    Minibatch MSE: 0.060\n",
            "    Minibatch MSE: 0.056\n",
            "    Minibatch MSE: 0.069\n",
            "Epoch: 005 | MSE: 0.09657\n",
            "    Minibatch MSE: 0.068\n",
            "    Minibatch MSE: 0.111\n",
            "    Minibatch MSE: 0.092\n",
            "    Minibatch MSE: 0.115\n",
            "    Minibatch MSE: 0.157\n",
            "    Minibatch MSE: 0.074\n",
            "    Minibatch MSE: 0.087\n",
            "Epoch: 006 | MSE: 0.09650\n",
            "    Minibatch MSE: 0.057\n",
            "    Minibatch MSE: 0.070\n",
            "    Minibatch MSE: 0.133\n",
            "    Minibatch MSE: 0.127\n",
            "    Minibatch MSE: 0.062\n",
            "    Minibatch MSE: 0.153\n",
            "    Minibatch MSE: 0.103\n",
            "Epoch: 007 | MSE: 0.09683\n",
            "    Minibatch MSE: 0.102\n",
            "    Minibatch MSE: 0.110\n",
            "    Minibatch MSE: 0.101\n",
            "    Minibatch MSE: 0.065\n",
            "    Minibatch MSE: 0.126\n",
            "    Minibatch MSE: 0.124\n",
            "    Minibatch MSE: 0.076\n",
            "Epoch: 008 | MSE: 0.09648\n",
            "    Minibatch MSE: 0.120\n",
            "    Minibatch MSE: 0.056\n",
            "    Minibatch MSE: 0.100\n",
            "    Minibatch MSE: 0.102\n",
            "    Minibatch MSE: 0.106\n",
            "    Minibatch MSE: 0.075\n",
            "    Minibatch MSE: 0.144\n",
            "Epoch: 009 | MSE: 0.09740\n",
            "    Minibatch MSE: 0.073\n",
            "    Minibatch MSE: 0.071\n",
            "    Minibatch MSE: 0.084\n",
            "    Minibatch MSE: 0.152\n",
            "    Minibatch MSE: 0.099\n",
            "    Minibatch MSE: 0.108\n",
            "    Minibatch MSE: 0.118\n",
            "Epoch: 010 | MSE: 0.09636\n",
            "    Minibatch MSE: 0.058\n",
            "    Minibatch MSE: 0.070\n",
            "    Minibatch MSE: 0.145\n",
            "    Minibatch MSE: 0.081\n",
            "    Minibatch MSE: 0.093\n",
            "    Minibatch MSE: 0.127\n",
            "    Minibatch MSE: 0.115\n",
            "Epoch: 011 | MSE: 0.09638\n",
            "    Minibatch MSE: 0.123\n",
            "    Minibatch MSE: 0.091\n",
            "    Minibatch MSE: 0.085\n",
            "    Minibatch MSE: 0.093\n",
            "    Minibatch MSE: 0.091\n",
            "    Minibatch MSE: 0.143\n",
            "    Minibatch MSE: 0.081\n",
            "Epoch: 012 | MSE: 0.09718\n",
            "    Minibatch MSE: 0.096\n",
            "    Minibatch MSE: 0.076\n",
            "    Minibatch MSE: 0.149\n",
            "    Minibatch MSE: 0.092\n",
            "    Minibatch MSE: 0.116\n",
            "    Minibatch MSE: 0.093\n",
            "    Minibatch MSE: 0.091\n",
            "Epoch: 013 | MSE: 0.09638\n",
            "    Minibatch MSE: 0.095\n",
            "    Minibatch MSE: 0.104\n",
            "    Minibatch MSE: 0.107\n",
            "    Minibatch MSE: 0.120\n",
            "    Minibatch MSE: 0.102\n",
            "    Minibatch MSE: 0.045\n",
            "    Minibatch MSE: 0.124\n",
            "Epoch: 014 | MSE: 0.09685\n",
            "    Minibatch MSE: 0.121\n",
            "    Minibatch MSE: 0.051\n",
            "    Minibatch MSE: 0.095\n",
            "    Minibatch MSE: 0.122\n",
            "    Minibatch MSE: 0.030\n",
            "    Minibatch MSE: 0.158\n",
            "    Minibatch MSE: 0.121\n",
            "Epoch: 015 | MSE: 0.09745\n",
            "    Minibatch MSE: 0.080\n",
            "    Minibatch MSE: 0.119\n",
            "    Minibatch MSE: 0.091\n",
            "    Minibatch MSE: 0.095\n",
            "    Minibatch MSE: 0.044\n",
            "    Minibatch MSE: 0.092\n",
            "    Minibatch MSE: 0.180\n",
            "Epoch: 016 | MSE: 0.09693\n",
            "    Minibatch MSE: 0.054\n",
            "    Minibatch MSE: 0.075\n",
            "    Minibatch MSE: 0.184\n",
            "    Minibatch MSE: 0.105\n",
            "    Minibatch MSE: 0.121\n",
            "    Minibatch MSE: 0.066\n",
            "    Minibatch MSE: 0.096\n",
            "Epoch: 017 | MSE: 0.09699\n",
            "    Minibatch MSE: 0.076\n",
            "    Minibatch MSE: 0.050\n",
            "    Minibatch MSE: 0.198\n",
            "    Minibatch MSE: 0.105\n",
            "    Minibatch MSE: 0.054\n",
            "    Minibatch MSE: 0.136\n",
            "    Minibatch MSE: 0.099\n",
            "Epoch: 018 | MSE: 0.09672\n",
            "    Minibatch MSE: 0.158\n",
            "    Minibatch MSE: 0.099\n",
            "    Minibatch MSE: 0.087\n",
            "    Minibatch MSE: 0.070\n",
            "    Minibatch MSE: 0.103\n",
            "    Minibatch MSE: 0.112\n",
            "    Minibatch MSE: 0.081\n",
            "Epoch: 019 | MSE: 0.09638\n",
            "    Minibatch MSE: 0.095\n",
            "    Minibatch MSE: 0.093\n",
            "    Minibatch MSE: 0.111\n",
            "    Minibatch MSE: 0.147\n",
            "    Minibatch MSE: 0.083\n",
            "    Minibatch MSE: 0.102\n",
            "    Minibatch MSE: 0.065\n",
            "Epoch: 020 | MSE: 0.09635\n"
          ]
        }
      ]
    },
    {
      "cell_type": "code",
      "source": [
        "plt.plot(range(len(cost)), cost)\n",
        "plt.ylabel('Mean Squared Error')\n",
        "plt.xlabel('Epoch')\n",
        "plt.show()"
      ],
      "metadata": {
        "colab": {
          "base_uri": "https://localhost:8080/",
          "height": 449
        },
        "id": "tvStp3jZ9aHl",
        "outputId": "9e6ebb79-154f-445f-fcb1-e7ddd9bd485a"
      },
      "execution_count": 108,
      "outputs": [
        {
          "output_type": "display_data",
          "data": {
            "text/plain": [
              "<Figure size 640x480 with 1 Axes>"
            ],
            "image/png": "[encoded data removed]"
          },
          "metadata": {}
        }
      ]
    },
    {
      "cell_type": "code",
      "source": [
        "ones = torch.ones(y_train.size())\n",
        "zeros = torch.zeros(y_train.size())\n",
        "train_pred = model.forward(X_train)\n",
        "train_acc = torch.mean(\n",
        "    (torch.where(train_pred > 0.5,\n",
        "                 ones,\n",
        "                 zeros).int() == y_train).float())\n",
        "\n",
        "ones = torch.ones(y_test.size())\n",
        "zeros = torch.zeros(y_test.size())\n",
        "test_pred = model.forward(X_test)\n",
        "test_acc = torch.mean(\n",
        "    (torch.where(test_pred > 0.5,\n",
        "                 ones,\n",
        "                 zeros).int() == y_test).float())\n",
        "\n",
        "print('Training Accuracy: %.2f' % (train_acc*100))\n",
        "print('Test Accuracy: %.2f' % (test_acc*100))"
      ],
      "metadata": {
        "colab": {
          "base_uri": "https://localhost:8080/"
        },
        "id": "qXb82WoD9d6W",
        "outputId": "13aa40e0-0fff-490e-aaa4-cc7cf530b72c"
      },
      "execution_count": 109,
      "outputs": [
        {
          "output_type": "stream",
          "name": "stdout",
          "text": [
            "Training Accuracy: 90.00\n",
            "Test Accuracy: 96.67\n"
          ]
        }
      ]
    },
    {
      "cell_type": "code",
      "source": [],
      "metadata": {
        "id": "EkHWN-lb9nMU"
      },
      "execution_count": 109,
      "outputs": []
    }
  ]
}