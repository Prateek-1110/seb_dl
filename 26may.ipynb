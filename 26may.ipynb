{
  "cells": [
    {
      "cell_type": "markdown",
      "metadata": {
        "id": "8vlvJzGhZSoy"
      },
      "source": [
        "![](images/adaline.png)"
      ]
    },
    {
      "cell_type": "code",
      "execution_count": null,
      "metadata": {
        "id": "yuxq8AneZSoy"
      },
      "outputs": [],
      "source": [
        "import torch\n",
        "from torch.autograd import grad\n",
        "import torch.nn.functional as F\n",
        "\n",
        "import matplotlib.pyplot as plt\n",
        "%matplotlib inline"
      ]
    },
    {
      "cell_type": "markdown",
      "metadata": {
        "id": "bX1FCbGTZSoy"
      },
      "source": [
        "<br>\n",
        "<br>"
      ]
    },
    {
      "cell_type": "markdown",
      "metadata": {
        "id": "3MaVmNKAZSoy"
      },
      "source": [
        "## Dataset Prep"
      ]
    },
    {
      "cell_type": "code",
      "execution_count": null,
      "metadata": {
        "id": "L-fHDcBmZSoy"
      },
      "outputs": [],
      "source": [
        "import pandas as pd\n",
        "\n",
        "df = pd.read_csv('/content/iris.data', index_col=None, header=None)\n",
        "df.columns = ['x1', 'x2', 'x3', 'x4', 'y']\n",
        "df = df.iloc[50:150]\n",
        "df['y'] = df['y'].apply(lambda x: 0 if x == 'Iris-versicolor' else 1)\n",
        "\n",
        "\n",
        "# Assign features and target\n",
        "\n",
        "X = torch.tensor(df[['x2', 'x3']].values, dtype=torch.float)\n",
        "y = torch.tensor(df['y'].values, dtype=torch.int)\n",
        "\n",
        "# Shuffling & train/test split\n",
        "\n",
        "torch.manual_seed(123)\n",
        "shuffle_idx = torch.randperm(y.size(0), dtype=torch.long)\n",
        "\n",
        "X, y = X[shuffle_idx], y[shuffle_idx]\n",
        "\n",
        "percent70 = int(shuffle_idx.size(0)*0.7)\n",
        "\n",
        "X_train, X_test = X[shuffle_idx[:percent70]], X[shuffle_idx[percent70:]]\n",
        "y_train, y_test = y[shuffle_idx[:percent70]], y[shuffle_idx[percent70:]]\n",
        "\n",
        "# Normalize (mean zero, unit variance)\n",
        "\n",
        "mu, sigma = X_train.mean(dim=0), X_train.std(dim=0)\n",
        "X_train = (X_train - mu) / sigma\n",
        "X_test = (X_test - mu) / sigma"
      ]
    },
    {
      "cell_type": "markdown",
      "metadata": {
        "id": "YEtUZEfNZSoz"
      },
      "source": [
        "<br>\n",
        "<br>"
      ]
    },
    {
      "cell_type": "markdown",
      "metadata": {
        "id": "UaKzSV8sZSoz"
      },
      "source": [
        "## 1) ADALINE Manually"
      ]
    },
    {
      "cell_type": "code",
      "execution_count": null,
      "metadata": {
        "id": "n9IK2Y71ZSoz"
      },
      "outputs": [],
      "source": [
        "class Adaline1():\n",
        "    def __init__(self, num_features):\n",
        "        self.num_features = num_features\n",
        "        self.weight = torch.zeros(num_features, 1,\n",
        "                                  dtype=torch.float)\n",
        "        self.bias = torch.zeros(1, dtype=torch.float)\n",
        "\n",
        "    def forward(self, x):\n",
        "        netinputs = torch.add(torch.mm(x, self.weight), self.bias)\n",
        "        activations = netinputs\n",
        "        return activations.view(-1)\n",
        "\n",
        "    def backward(self, x, yhat, y):\n",
        "\n",
        "        grad_loss_yhat = 2*(y - yhat)\n",
        "\n",
        "        grad_yhat_weights = -x\n",
        "        grad_yhat_bias = -1.\n",
        "\n",
        "        # Chain rule: inner times outer\n",
        "        grad_loss_weights =  torch.mm(grad_yhat_weights.t(),\n",
        "                                         grad_loss_yhat.view(-1, 1)) / y.size(0)\n",
        "\n",
        "        grad_loss_bias = torch.sum(grad_yhat_bias*grad_loss_yhat) / y.size(0)\n",
        "\n",
        "        # return negative gradient\n",
        "        return (-1)*grad_loss_weights, (-1)*grad_loss_bias\n",
        "\n",
        "\n",
        "\n",
        "####################################################\n",
        "##### Training and evaluation wrappers\n",
        "###################################################\n",
        "\n",
        "def loss_func(yhat, y):\n",
        "    return torch.mean((yhat - y)**2)\n",
        "\n",
        "\n",
        "def train(model, x, y, num_epochs,\n",
        "          learning_rate=0.01, seed=123, minibatch_size=10):\n",
        "    cost = []\n",
        "\n",
        "    torch.manual_seed(seed)\n",
        "    for e in range(num_epochs):\n",
        "\n",
        "        #### Shuffle epoch\n",
        "        shuffle_idx = torch.randperm(y.size(0), dtype=torch.long)\n",
        "        minibatches = torch.split(shuffle_idx, minibatch_size)\n",
        "\n",
        "        for minibatch_idx in minibatches:\n",
        "\n",
        "            #### Compute outputs ####\n",
        "            yhat = model.forward(x[minibatch_idx])\n",
        "\n",
        "            #### Compute gradients ####\n",
        "            negative_grad_w, negative_grad_b = \\\n",
        "                model.backward(x[minibatch_idx], yhat, y[minibatch_idx])\n",
        "\n",
        "            #### Update weights ####\n",
        "            model.weight += learning_rate * negative_grad_w\n",
        "            model.bias += learning_rate * negative_grad_b\n",
        "\n",
        "            #### Logging ####\n",
        "            #minibatch_loss = loss(yhat, y[minibatch_idx])\n",
        "            #print('    Minibatch MSE: %.3f' % minibatch_loss)\n",
        "\n",
        "        #### Logging ####\n",
        "        yhat = model.forward(x)\n",
        "        curr_loss = loss_func(yhat, y)\n",
        "        print('Epoch: %03d' % (e+1), end=\"\")\n",
        "        print(' | MSE: %.5f' % curr_loss)\n",
        "        cost.append(curr_loss)\n",
        "\n",
        "    return cost"
      ]
    },
    {
      "cell_type": "code",
      "execution_count": null,
      "metadata": {
        "colab": {
          "base_uri": "https://localhost:8080/"
        },
        "id": "R__YJeI6ZSo0",
        "outputId": "e830daf8-677c-40be-8cdd-798061ab9bfd"
      },
      "outputs": [
        {
          "output_type": "execute_result",
          "data": {
            "text/plain": [
              "2"
            ]
          },
          "metadata": {},
          "execution_count": 4
        }
      ],
      "source": [
        "X_train.shape[1]"
      ]
    },
    {
      "cell_type": "code",
      "execution_count": null,
      "metadata": {
        "colab": {
          "base_uri": "https://localhost:8080/"
        },
        "id": "FDEocLUBZSo0",
        "outputId": "c9d124e9-7ff0-47c3-c2e4-867f82a66636"
      },
      "outputs": [
        {
          "output_type": "stream",
          "name": "stdout",
          "text": [
            "Epoch: 001 | MSE: 0.38849\n",
            "Epoch: 002 | MSE: 0.31679\n",
            "Epoch: 003 | MSE: 0.26379\n",
            "Epoch: 004 | MSE: 0.22463\n",
            "Epoch: 005 | MSE: 0.19527\n",
            "Epoch: 006 | MSE: 0.17307\n",
            "Epoch: 007 | MSE: 0.15629\n",
            "Epoch: 008 | MSE: 0.14352\n",
            "Epoch: 009 | MSE: 0.13360\n",
            "Epoch: 010 | MSE: 0.12600\n",
            "Epoch: 011 | MSE: 0.12007\n",
            "Epoch: 012 | MSE: 0.11547\n",
            "Epoch: 013 | MSE: 0.11178\n",
            "Epoch: 014 | MSE: 0.10884\n",
            "Epoch: 015 | MSE: 0.10656\n",
            "Epoch: 016 | MSE: 0.10470\n",
            "Epoch: 017 | MSE: 0.10320\n",
            "Epoch: 018 | MSE: 0.10200\n",
            "Epoch: 019 | MSE: 0.10105\n",
            "Epoch: 020 | MSE: 0.10025\n"
          ]
        }
      ],
      "source": [
        "model = Adaline1(num_features=X_train.size(1))\n",
        "cost = train(model,\n",
        "             X_train, y_train.float(),\n",
        "             num_epochs=20,\n",
        "             learning_rate=0.01,\n",
        "             seed=123,\n",
        "             minibatch_size=10)"
      ]
    },
    {
      "cell_type": "code",
      "execution_count": null,
      "metadata": {
        "colab": {
          "base_uri": "https://localhost:8080/",
          "height": 451
        },
        "id": "TbQHd5pVZSo1",
        "outputId": "3200db01-dce3-4ecc-a9c1-b6b76d7328dd"
      },
      "outputs": [
        {
          "output_type": "display_data",
          "data": {
            "text/plain": [
              "<Figure size 640x480 with 1 Axes>"
            ],
            "image/png": "[encoded data removed]"
          },
          "metadata": {}
        }
      ],
      "source": [
        "plt.plot(range(len(cost)), cost)\n",
        "plt.ylabel('Mean Squared Error')\n",
        "plt.xlabel('Epoch')\n",
        "plt.show()"
      ]
    },
    {
      "cell_type": "code",
      "execution_count": null,
      "metadata": {
        "colab": {
          "base_uri": "https://localhost:8080/"
        },
        "id": "94VL8YskZSo1",
        "outputId": "65979d2e-2f17-4d45-d3de-8adc8b98b3bd"
      },
      "outputs": [
        {
          "output_type": "stream",
          "name": "stdout",
          "text": [
            "Training Accuracy: 92.86\n",
            "Test Accuracy: 93.33\n"
          ]
        }
      ],
      "source": [
        "ones = torch.ones(y_train.size())\n",
        "zeros = torch.zeros(y_train.size())\n",
        "train_pred = model.forward(X_train)\n",
        "train_acc = torch.mean(\n",
        "    (torch.where(train_pred > 0.5,\n",
        "                 ones,\n",
        "                 zeros).int() == y_train).float())\n",
        "\n",
        "ones = torch.ones(y_test.size())\n",
        "zeros = torch.zeros(y_test.size())\n",
        "test_pred = model.forward(X_test)\n",
        "test_acc = torch.mean(\n",
        "    (torch.where(test_pred > 0.5,\n",
        "                 ones,\n",
        "                 zeros).int() == y_test).float())\n",
        "\n",
        "print('Training Accuracy: %.2f' % (train_acc*100))\n",
        "print('Test Accuracy: %.2f' % (test_acc*100))"
      ]
    },
    {
      "cell_type": "markdown",
      "metadata": {
        "id": "oj-uN4uAZSo1"
      },
      "source": [
        "<br>\n",
        "<br>"
      ]
    },
    {
      "cell_type": "markdown",
      "metadata": {
        "id": "fnvSxEPAZSo1"
      },
      "source": [
        "## 2) ADALINE Semi-Manually (using Autograd)"
      ]
    },
    {
      "cell_type": "code",
      "execution_count": null,
      "metadata": {
        "id": "vPzv5kIcZSo1"
      },
      "outputs": [],
      "source": [
        "class Adaline3():\n",
        "    def __init__(self, num_features):\n",
        "        self.num_features = num_features\n",
        "        self.weight = torch.zeros(num_features, 1,\n",
        "                                  dtype=torch.float,\n",
        "                                  requires_grad=True)\n",
        "        self.bias = torch.zeros(1, dtype=torch.float,\n",
        "                                requires_grad=True)\n",
        "\n",
        "    def forward(self, x):\n",
        "        netinputs = torch.add(torch.mm(x, self.weight), self.bias)\n",
        "        activations = netinputs\n",
        "        return activations.view(-1)\n",
        "\n",
        "\n",
        "####################################################\n",
        "##### Training and evaluation wrappers\n",
        "###################################################\n",
        "\n",
        "def loss_func(yhat, y):\n",
        "    return torch.mean((yhat - y)**2)\n",
        "\n",
        "\n",
        "def train(model, x, y, num_epochs,\n",
        "          learning_rate=0.01, seed=123, minibatch_size=10):\n",
        "    cost = []\n",
        "\n",
        "    torch.manual_seed(seed)\n",
        "    for e in range(num_epochs):\n",
        "\n",
        "        #### Shuffle epoch\n",
        "        shuffle_idx = torch.randperm(y.size(0), dtype=torch.long)\n",
        "        minibatches = torch.split(shuffle_idx, minibatch_size)\n",
        "\n",
        "        for minibatch_idx in minibatches:\n",
        "\n",
        "            #### Compute outputs ####\n",
        "            yhat = model.forward(x[minibatch_idx])\n",
        "            loss = loss_func(yhat, y[minibatch_idx])\n",
        "\n",
        "            #### Compute gradients ####\n",
        "\n",
        "            negative_grad_w = grad(loss, model.weight, retain_graph=True)[0] * (-1)\n",
        "            negative_grad_b = grad(loss, model.bias)[0] * (-1)\n",
        "\n",
        "\n",
        "            #### Update weights ####\n",
        "\n",
        "            model.weight = model.weight + learning_rate * negative_grad_w\n",
        "            model.bias = model.bias + learning_rate * negative_grad_b\n",
        "\n",
        "        #### Logging ####\n",
        "        with torch.no_grad():\n",
        "            # context manager to\n",
        "            # avoid building graph during \"inference\"\n",
        "            # to save memory\n",
        "            yhat = model.forward(x)\n",
        "            curr_loss = loss_func(yhat, y)\n",
        "            print('Epoch: %03d' % (e+1), end=\"\")\n",
        "            print(' | MSE: %.5f' % curr_loss)\n",
        "            cost.append(curr_loss)\n",
        "\n",
        "    return cost"
      ]
    },
    {
      "cell_type": "code",
      "execution_count": null,
      "metadata": {
        "colab": {
          "base_uri": "https://localhost:8080/"
        },
        "id": "YmgVGBQkZSo1",
        "outputId": "2530c57c-3c6e-49a1-9b61-2c761d659b8e"
      },
      "outputs": [
        {
          "output_type": "stream",
          "name": "stdout",
          "text": [
            "Epoch: 001 | MSE: 0.38849\n",
            "Epoch: 002 | MSE: 0.31679\n",
            "Epoch: 003 | MSE: 0.26379\n",
            "Epoch: 004 | MSE: 0.22463\n",
            "Epoch: 005 | MSE: 0.19527\n",
            "Epoch: 006 | MSE: 0.17307\n",
            "Epoch: 007 | MSE: 0.15629\n",
            "Epoch: 008 | MSE: 0.14352\n",
            "Epoch: 009 | MSE: 0.13360\n",
            "Epoch: 010 | MSE: 0.12600\n",
            "Epoch: 011 | MSE: 0.12007\n",
            "Epoch: 012 | MSE: 0.11547\n",
            "Epoch: 013 | MSE: 0.11178\n",
            "Epoch: 014 | MSE: 0.10884\n",
            "Epoch: 015 | MSE: 0.10656\n",
            "Epoch: 016 | MSE: 0.10470\n",
            "Epoch: 017 | MSE: 0.10320\n",
            "Epoch: 018 | MSE: 0.10200\n",
            "Epoch: 019 | MSE: 0.10105\n",
            "Epoch: 020 | MSE: 0.10025\n"
          ]
        }
      ],
      "source": [
        "model = Adaline3(num_features=X_train.size(1))\n",
        "cost = train(model,\n",
        "             X_train, y_train.float(),\n",
        "             num_epochs=20,\n",
        "             learning_rate=0.01,\n",
        "             seed=123,\n",
        "             minibatch_size=10)"
      ]
    },
    {
      "cell_type": "code",
      "execution_count": null,
      "metadata": {
        "colab": {
          "base_uri": "https://localhost:8080/",
          "height": 451
        },
        "id": "YrfHEBRMZSo2",
        "outputId": "b159d429-a63f-4640-df47-aafbcc64f4a4"
      },
      "outputs": [
        {
          "output_type": "display_data",
          "data": {
            "text/plain": [
              "<Figure size 640x480 with 1 Axes>"
            ],
            "image/png": "[encoded data removed]"
          },
          "metadata": {}
        }
      ],
      "source": [
        "plt.plot(range(len(cost)), cost)\n",
        "plt.ylabel('Mean Squared Error')\n",
        "plt.xlabel('Epoch')\n",
        "plt.show()"
      ]
    },
    {
      "cell_type": "code",
      "execution_count": null,
      "metadata": {
        "colab": {
          "base_uri": "https://localhost:8080/"
        },
        "id": "MbRovd_BZSo2",
        "outputId": "2eb97c4e-8963-4b6a-90ae-978435226d90"
      },
      "outputs": [
        {
          "output_type": "stream",
          "name": "stdout",
          "text": [
            "Training Accuracy: 92.86\n",
            "Test Accuracy: 93.33\n"
          ]
        }
      ],
      "source": [
        "ones = torch.ones(y_train.size())\n",
        "zeros = torch.zeros(y_train.size())\n",
        "train_pred = model.forward(X_train)\n",
        "train_acc = torch.mean(\n",
        "    (torch.where(train_pred > 0.5,\n",
        "                 ones,\n",
        "                 zeros).int() == y_train).float())\n",
        "\n",
        "ones = torch.ones(y_test.size())\n",
        "zeros = torch.zeros(y_test.size())\n",
        "test_pred = model.forward(X_test)\n",
        "test_acc = torch.mean(\n",
        "    (torch.where(test_pred > 0.5,\n",
        "                 ones,\n",
        "                 zeros).int() == y_test).float())\n",
        "\n",
        "print('Training Accuracy: %.2f' % (train_acc*100))\n",
        "print('Test Accuracy: %.2f' % (test_acc*100))"
      ]
    },
    {
      "cell_type": "markdown",
      "metadata": {
        "id": "ulT7cByZZSo2"
      },
      "source": [
        "<br>\n",
        "<br>"
      ]
    },
    {
      "cell_type": "markdown",
      "metadata": {
        "id": "RKxzcjt7ZSo2"
      },
      "source": [
        "## 3) ADALINE Automatically"
      ]
    },
    {
      "cell_type": "code",
      "execution_count": null,
      "metadata": {
        "id": "iW1VlfMjZSo2"
      },
      "outputs": [],
      "source": [
        "class Adaline4(torch.nn.Module):\n",
        "    def __init__(self, num_features):\n",
        "        super(Adaline4, self).__init__()\n",
        "        self.linear = torch.nn.Linear(num_features, 1)\n",
        "        self.linear.weight.detach().zero_()\n",
        "        self.linear.bias.detach().zero_()\n",
        "\n",
        "    def forward(self, x):\n",
        "        netinputs = self.linear(x)\n",
        "        activations = netinputs\n",
        "        return activations.view(-1)\n",
        "\n",
        "def train(model, x, y, num_epochs,\n",
        "          learning_rate=0.01, seed=123, minibatch_size=10):\n",
        "    cost = []\n",
        "\n",
        "    torch.manual_seed(seed)\n",
        "\n",
        "    optimizer = torch.optim.SGD(model.parameters(), lr=learning_rate)\n",
        "\n",
        "    for e in range(num_epochs):\n",
        "\n",
        "        #### Shuffle epoch\n",
        "        shuffle_idx = torch.randperm(y.size(0), dtype=torch.long)\n",
        "        minibatches = torch.split(shuffle_idx, minibatch_size)\n",
        "\n",
        "        for minibatch_idx in minibatches:\n",
        "\n",
        "            #### Compute outputs ####\n",
        "            yhat = model.forward(x[minibatch_idx])\n",
        "\n",
        "            # you could also use our \"manual\" loss_func\n",
        "            loss = F.mse_loss(yhat, y[minibatch_idx])\n",
        "\n",
        "            #### Reset gradients from previous iteration ####\n",
        "            optimizer.zero_grad()\n",
        "\n",
        "            #### Compute gradients ####\n",
        "            loss.backward()\n",
        "\n",
        "            #### Update weights ####\n",
        "            optimizer.step()\n",
        "\n",
        "        #### Logging ####\n",
        "        with torch.no_grad():\n",
        "            # context manager to\n",
        "            # avoid building graph during \"inference\"\n",
        "            # to save memory\n",
        "            yhat = model.forward(x)\n",
        "            curr_loss = loss_func(yhat, y)\n",
        "            print('Epoch: %03d' % (e+1), end=\"\")\n",
        "            print(' | MSE: %.5f' % curr_loss)\n",
        "            cost.append(curr_loss)\n",
        "\n",
        "    return cost"
      ]
    },
    {
      "cell_type": "code",
      "execution_count": null,
      "metadata": {
        "colab": {
          "base_uri": "https://localhost:8080/"
        },
        "id": "MZomuWrzZSo2",
        "outputId": "d9191f48-d1f0-4ecf-eb50-84e216c4225c"
      },
      "outputs": [
        {
          "output_type": "stream",
          "name": "stdout",
          "text": [
            "Epoch: 001 | MSE: 0.38849\n",
            "Epoch: 002 | MSE: 0.31679\n",
            "Epoch: 003 | MSE: 0.26379\n",
            "Epoch: 004 | MSE: 0.22463\n",
            "Epoch: 005 | MSE: 0.19527\n",
            "Epoch: 006 | MSE: 0.17307\n",
            "Epoch: 007 | MSE: 0.15629\n",
            "Epoch: 008 | MSE: 0.14352\n",
            "Epoch: 009 | MSE: 0.13360\n",
            "Epoch: 010 | MSE: 0.12600\n",
            "Epoch: 011 | MSE: 0.12007\n",
            "Epoch: 012 | MSE: 0.11547\n",
            "Epoch: 013 | MSE: 0.11178\n",
            "Epoch: 014 | MSE: 0.10884\n",
            "Epoch: 015 | MSE: 0.10656\n",
            "Epoch: 016 | MSE: 0.10470\n",
            "Epoch: 017 | MSE: 0.10320\n",
            "Epoch: 018 | MSE: 0.10200\n",
            "Epoch: 019 | MSE: 0.10105\n",
            "Epoch: 020 | MSE: 0.10025\n"
          ]
        }
      ],
      "source": [
        "model = Adaline4(num_features=X_train.size(1))\n",
        "cost = train(model,\n",
        "             X_train, y_train.float(),\n",
        "             num_epochs=20,\n",
        "             learning_rate=0.01,\n",
        "             seed=123,\n",
        "             minibatch_size=10)"
      ]
    },
    {
      "cell_type": "code",
      "execution_count": null,
      "metadata": {
        "colab": {
          "base_uri": "https://localhost:8080/",
          "height": 451
        },
        "id": "xQ7CQ0qUZSo2",
        "outputId": "f2acb2cf-65bb-45ed-ef2c-c53b735c0e1a"
      },
      "outputs": [
        {
          "output_type": "display_data",
          "data": {
            "text/plain": [
              "<Figure size 640x480 with 1 Axes>"
            ],
            "image/png": "[encoded data removed]"
          },
          "metadata": {}
        }
      ],
      "source": [
        "plt.plot(range(len(cost)), cost)\n",
        "plt.ylabel('Mean Squared Error')\n",
        "plt.xlabel('Epoch')\n",
        "plt.show()"
      ]
    },
    {
      "cell_type": "code",
      "execution_count": null,
      "metadata": {
        "colab": {
          "base_uri": "https://localhost:8080/"
        },
        "id": "hmnmK86AZSo3",
        "outputId": "6c393447-7293-40ae-f4b7-eb3ae1719fb7"
      },
      "outputs": [
        {
          "output_type": "stream",
          "name": "stdout",
          "text": [
            "Training Accuracy: 92.86\n",
            "Test Accuracy: 93.33\n"
          ]
        }
      ],
      "source": [
        "ones = torch.ones(y_train.size())\n",
        "zeros = torch.zeros(y_train.size())\n",
        "train_pred = model.forward(X_train)\n",
        "train_acc = torch.mean(\n",
        "    (torch.where(train_pred > 0.5,\n",
        "                 ones,\n",
        "                 zeros).int() == y_train).float())\n",
        "\n",
        "ones = torch.ones(y_test.size())\n",
        "zeros = torch.zeros(y_test.size())\n",
        "test_pred = model.forward(X_test)\n",
        "test_acc = torch.mean(\n",
        "    (torch.where(test_pred > 0.5,\n",
        "                 ones,\n",
        "                 zeros).int() == y_test).float())\n",
        "\n",
        "print('Training Accuracy: %.2f' % (train_acc*100))\n",
        "print('Test Accuracy: %.2f' % (test_acc*100))"
      ]
    },
    {
      "cell_type": "code",
      "execution_count": null,
      "metadata": {
        "id": "kTpXG0SZZSo3"
      },
      "outputs": [],
      "source": []
    }
  ],
  "metadata": {
    "kernelspec": {
      "display_name": "Python 3",
      "language": "python",
      "name": "python3"
    },
    "language_info": {
      "codemirror_mode": {
        "name": "ipython",
        "version": 3
      },
      "file_extension": ".py",
      "mimetype": "text/x-python",
      "name": "python",
      "nbconvert_exporter": "python",
      "pygments_lexer": "ipython3",
      "version": "3.8.2"
    },
    "toc-showcode": false,
    "toc-showmarkdowntxt": false,
    "toc-showtags": false,
    "colab": {
      "provenance": []
    }
  },
  "nbformat": 4,
  "nbformat_minor": 0
}